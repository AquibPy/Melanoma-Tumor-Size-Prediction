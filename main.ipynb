{
 "metadata": {
  "language_info": {
   "codemirror_mode": {
    "name": "ipython",
    "version": 3
   },
   "file_extension": ".py",
   "mimetype": "text/x-python",
   "name": "python",
   "nbconvert_exporter": "python",
   "pygments_lexer": "ipython3",
   "version": 3
  },
  "orig_nbformat": 2,
  "kernelspec": {
   "name": "python_defaultSpec_1596898255379",
   "display_name": "Python 3.7.7 64-bit ('tensorflow_env': conda)"
  }
 },
 "nbformat": 4,
 "nbformat_minor": 2,
 "cells": [
  {
   "cell_type": "code",
   "execution_count": 1,
   "metadata": {
    "tags": []
   },
   "outputs": [
    {
     "output_type": "stream",
     "name": "stderr",
     "text": "\nBad key \"text.kerning_factor\" on line 4 in\nC:\\Users\\mohda\\anaconda3\\envs\\tensorflow_env\\lib\\site-packages\\matplotlib\\mpl-data\\stylelib\\_classic_test_patch.mplstyle.\nYou probably need to get an updated matplotlibrc file from\nhttp://github.com/matplotlib/matplotlib/blob/master/matplotlibrc.template\nor from the matplotlib source distribution\n"
    }
   ],
   "source": [
    "import numpy as np\n",
    "import pandas as pd\n",
    "import matplotlib.pyplot as plt\n",
    "%matplotlib inline\n",
    "import seaborn as sns\n",
    "sns.set(color_codes=True)\n",
    "import plotly.express as px"
   ]
  },
  {
   "cell_type": "code",
   "execution_count": 2,
   "metadata": {},
   "outputs": [],
   "source": [
    "df = pd.read_csv('Train.csv')"
   ]
  },
  {
   "cell_type": "code",
   "execution_count": 3,
   "metadata": {},
   "outputs": [
    {
     "output_type": "execute_result",
     "data": {
      "text/plain": "   mass_npea  size_npear  malign_ratio  damage_size  exposed_area  \\\n0    6930.90     2919.02       0.42116      51.8298  9.888294e+05   \n1   15635.70     4879.36       0.31206     223.5500  2.058426e+06   \n2   10376.20     2613.88       0.25191     127.3370  1.434676e+06   \n3   13093.80     4510.06       0.34444     155.4400  1.812195e+06   \n4    7545.21     2882.36       0.38201      85.1237  1.043918e+06   \n\n   std_dev_malign  err_malign  malign_penalty  damage_ratio  tumor_size  \n0         109.487     2758.76              72       39.3620      14.103  \n1         248.881     5952.53             240       22.0253       2.648  \n2         160.093     4635.26              73       29.9963       1.688  \n3         173.015     5273.87              32       28.1354       3.796  \n4         124.414     3263.35              57       35.0200      18.023  ",
      "text/html": "<div>\n<style scoped>\n    .dataframe tbody tr th:only-of-type {\n        vertical-align: middle;\n    }\n\n    .dataframe tbody tr th {\n        vertical-align: top;\n    }\n\n    .dataframe thead th {\n        text-align: right;\n    }\n</style>\n<table border=\"1\" class=\"dataframe\">\n  <thead>\n    <tr style=\"text-align: right;\">\n      <th></th>\n      <th>mass_npea</th>\n      <th>size_npear</th>\n      <th>malign_ratio</th>\n      <th>damage_size</th>\n      <th>exposed_area</th>\n      <th>std_dev_malign</th>\n      <th>err_malign</th>\n      <th>malign_penalty</th>\n      <th>damage_ratio</th>\n      <th>tumor_size</th>\n    </tr>\n  </thead>\n  <tbody>\n    <tr>\n      <th>0</th>\n      <td>6930.90</td>\n      <td>2919.02</td>\n      <td>0.42116</td>\n      <td>51.8298</td>\n      <td>9.888294e+05</td>\n      <td>109.487</td>\n      <td>2758.76</td>\n      <td>72</td>\n      <td>39.3620</td>\n      <td>14.103</td>\n    </tr>\n    <tr>\n      <th>1</th>\n      <td>15635.70</td>\n      <td>4879.36</td>\n      <td>0.31206</td>\n      <td>223.5500</td>\n      <td>2.058426e+06</td>\n      <td>248.881</td>\n      <td>5952.53</td>\n      <td>240</td>\n      <td>22.0253</td>\n      <td>2.648</td>\n    </tr>\n    <tr>\n      <th>2</th>\n      <td>10376.20</td>\n      <td>2613.88</td>\n      <td>0.25191</td>\n      <td>127.3370</td>\n      <td>1.434676e+06</td>\n      <td>160.093</td>\n      <td>4635.26</td>\n      <td>73</td>\n      <td>29.9963</td>\n      <td>1.688</td>\n    </tr>\n    <tr>\n      <th>3</th>\n      <td>13093.80</td>\n      <td>4510.06</td>\n      <td>0.34444</td>\n      <td>155.4400</td>\n      <td>1.812195e+06</td>\n      <td>173.015</td>\n      <td>5273.87</td>\n      <td>32</td>\n      <td>28.1354</td>\n      <td>3.796</td>\n    </tr>\n    <tr>\n      <th>4</th>\n      <td>7545.21</td>\n      <td>2882.36</td>\n      <td>0.38201</td>\n      <td>85.1237</td>\n      <td>1.043918e+06</td>\n      <td>124.414</td>\n      <td>3263.35</td>\n      <td>57</td>\n      <td>35.0200</td>\n      <td>18.023</td>\n    </tr>\n  </tbody>\n</table>\n</div>"
     },
     "metadata": {},
     "execution_count": 3
    }
   ],
   "source": [
    "df.head()"
   ]
  },
  {
   "cell_type": "markdown",
   "metadata": {},
   "source": [
    "**Attributes Information**\n",
    "\n",
    "mass_npea:  the mass of the area understudy for melanoma tumor\n",
    "\n",
    "size_npear: the size of the area understudy for melanoma tumor\n",
    "\n",
    "malign_ratio: ration of normal to malign surface understudy\n",
    "\n",
    "damage_size: unrecoverable area of skin damaged by the tumor\n",
    "\n",
    "exposed_area: total area exposed to the tumor\n",
    "\n",
    "std_dev_malign: standard deviation of malign skin measurements\n",
    "\n",
    "err_malign: error in malign skin measurements\n",
    "\n",
    "malign_penalty: penalty applied due to measurement error in the lab\n",
    "\n",
    "damage_ratio: the ratio of damage to total spread on the skin\n",
    "\n",
    "tumor_size: size of melanoma_tumor"
   ]
  },
  {
   "cell_type": "markdown",
   "metadata": {},
   "source": [
    "**Names of Columns**"
   ]
  },
  {
   "cell_type": "code",
   "execution_count": 4,
   "metadata": {},
   "outputs": [
    {
     "output_type": "execute_result",
     "data": {
      "text/plain": "array(['mass_npea', 'size_npear', 'malign_ratio', 'damage_size',\n       'exposed_area', 'std_dev_malign', 'err_malign', 'malign_penalty',\n       'damage_ratio', 'tumor_size'], dtype=object)"
     },
     "metadata": {},
     "execution_count": 4
    }
   ],
   "source": [
    "df.columns.values"
   ]
  },
  {
   "cell_type": "code",
   "execution_count": 5,
   "metadata": {
    "tags": []
   },
   "outputs": [
    {
     "output_type": "stream",
     "name": "stdout",
     "text": "<class 'pandas.core.frame.DataFrame'>\nRangeIndex: 9146 entries, 0 to 9145\nData columns (total 10 columns):\n #   Column          Non-Null Count  Dtype  \n---  ------          --------------  -----  \n 0   mass_npea       9146 non-null   float64\n 1   size_npear      9146 non-null   float64\n 2   malign_ratio    9146 non-null   float64\n 3   damage_size     9146 non-null   float64\n 4   exposed_area    9146 non-null   float64\n 5   std_dev_malign  9146 non-null   float64\n 6   err_malign      9146 non-null   float64\n 7   malign_penalty  9146 non-null   int64  \n 8   damage_ratio    9146 non-null   float64\n 9   tumor_size      9146 non-null   float64\ndtypes: float64(9), int64(1)\nmemory usage: 714.7 KB\n"
    }
   ],
   "source": [
    "df.info()"
   ]
  },
  {
   "cell_type": "code",
   "execution_count": 6,
   "metadata": {},
   "outputs": [
    {
     "output_type": "execute_result",
     "data": {
      "text/plain": "                 count          mean            std           min  \\\nmass_npea       9146.0  9.903052e+03    4060.577116    2864.76000   \nsize_npear      9146.0  3.032828e+03    1462.334147     510.53000   \nmalign_ratio    9146.0  3.030829e-01       0.062533       0.11482   \ndamage_size     9146.0  1.039021e+02      55.456862      10.31010   \nexposed_area    9146.0  1.372442e+06  564677.287032  387853.40250   \nstd_dev_malign  9146.0  1.463042e+02      70.512177      31.97040   \nerr_malign      9146.0  3.992936e+03    1780.672859    1089.19000   \nmalign_penalty  9146.0  6.984966e+01      55.785332       0.00000   \ndamage_ratio    9146.0  3.446165e+01       5.972808      15.22800   \ntumor_size      9146.0  7.723348e+00       6.086852       0.00000   \n\n                          25%           50%           75%           max  \nmass_npea         6988.420000  8.895965e+03  1.211995e+04  3.699540e+04  \nsize_npear        1983.657500  2.684330e+03  3.830745e+03  1.353500e+04  \nmalign_ratio         0.259053  3.010550e-01  3.430025e-01  5.253000e-01  \ndamage_size         64.012525  8.845830e+01  1.342090e+02  3.464200e+02  \nexposed_area    959687.264300  1.237057e+06  1.693083e+06  4.978616e+06  \nstd_dev_malign      95.853900  1.261385e+02  1.822515e+02  5.288900e+02  \nerr_malign        3177.682500  3.846320e+03  4.664577e+03  9.198370e+04  \nmalign_penalty      31.000000  5.400000e+01  9.100000e+01  3.400000e+02  \ndamage_ratio        30.290225  3.524575e+01  3.880607e+01  4.654640e+01  \ntumor_size           2.320000  5.060500e+00  1.333600e+01  2.099900e+01  ",
      "text/html": "<div>\n<style scoped>\n    .dataframe tbody tr th:only-of-type {\n        vertical-align: middle;\n    }\n\n    .dataframe tbody tr th {\n        vertical-align: top;\n    }\n\n    .dataframe thead th {\n        text-align: right;\n    }\n</style>\n<table border=\"1\" class=\"dataframe\">\n  <thead>\n    <tr style=\"text-align: right;\">\n      <th></th>\n      <th>count</th>\n      <th>mean</th>\n      <th>std</th>\n      <th>min</th>\n      <th>25%</th>\n      <th>50%</th>\n      <th>75%</th>\n      <th>max</th>\n    </tr>\n  </thead>\n  <tbody>\n    <tr>\n      <th>mass_npea</th>\n      <td>9146.0</td>\n      <td>9.903052e+03</td>\n      <td>4060.577116</td>\n      <td>2864.76000</td>\n      <td>6988.420000</td>\n      <td>8.895965e+03</td>\n      <td>1.211995e+04</td>\n      <td>3.699540e+04</td>\n    </tr>\n    <tr>\n      <th>size_npear</th>\n      <td>9146.0</td>\n      <td>3.032828e+03</td>\n      <td>1462.334147</td>\n      <td>510.53000</td>\n      <td>1983.657500</td>\n      <td>2.684330e+03</td>\n      <td>3.830745e+03</td>\n      <td>1.353500e+04</td>\n    </tr>\n    <tr>\n      <th>malign_ratio</th>\n      <td>9146.0</td>\n      <td>3.030829e-01</td>\n      <td>0.062533</td>\n      <td>0.11482</td>\n      <td>0.259053</td>\n      <td>3.010550e-01</td>\n      <td>3.430025e-01</td>\n      <td>5.253000e-01</td>\n    </tr>\n    <tr>\n      <th>damage_size</th>\n      <td>9146.0</td>\n      <td>1.039021e+02</td>\n      <td>55.456862</td>\n      <td>10.31010</td>\n      <td>64.012525</td>\n      <td>8.845830e+01</td>\n      <td>1.342090e+02</td>\n      <td>3.464200e+02</td>\n    </tr>\n    <tr>\n      <th>exposed_area</th>\n      <td>9146.0</td>\n      <td>1.372442e+06</td>\n      <td>564677.287032</td>\n      <td>387853.40250</td>\n      <td>959687.264300</td>\n      <td>1.237057e+06</td>\n      <td>1.693083e+06</td>\n      <td>4.978616e+06</td>\n    </tr>\n    <tr>\n      <th>std_dev_malign</th>\n      <td>9146.0</td>\n      <td>1.463042e+02</td>\n      <td>70.512177</td>\n      <td>31.97040</td>\n      <td>95.853900</td>\n      <td>1.261385e+02</td>\n      <td>1.822515e+02</td>\n      <td>5.288900e+02</td>\n    </tr>\n    <tr>\n      <th>err_malign</th>\n      <td>9146.0</td>\n      <td>3.992936e+03</td>\n      <td>1780.672859</td>\n      <td>1089.19000</td>\n      <td>3177.682500</td>\n      <td>3.846320e+03</td>\n      <td>4.664577e+03</td>\n      <td>9.198370e+04</td>\n    </tr>\n    <tr>\n      <th>malign_penalty</th>\n      <td>9146.0</td>\n      <td>6.984966e+01</td>\n      <td>55.785332</td>\n      <td>0.00000</td>\n      <td>31.000000</td>\n      <td>5.400000e+01</td>\n      <td>9.100000e+01</td>\n      <td>3.400000e+02</td>\n    </tr>\n    <tr>\n      <th>damage_ratio</th>\n      <td>9146.0</td>\n      <td>3.446165e+01</td>\n      <td>5.972808</td>\n      <td>15.22800</td>\n      <td>30.290225</td>\n      <td>3.524575e+01</td>\n      <td>3.880607e+01</td>\n      <td>4.654640e+01</td>\n    </tr>\n    <tr>\n      <th>tumor_size</th>\n      <td>9146.0</td>\n      <td>7.723348e+00</td>\n      <td>6.086852</td>\n      <td>0.00000</td>\n      <td>2.320000</td>\n      <td>5.060500e+00</td>\n      <td>1.333600e+01</td>\n      <td>2.099900e+01</td>\n    </tr>\n  </tbody>\n</table>\n</div>"
     },
     "metadata": {},
     "execution_count": 6
    }
   ],
   "source": [
    "df.describe().T"
   ]
  },
  {
   "cell_type": "markdown",
   "metadata": {},
   "source": [
    "**Missing Values**"
   ]
  },
  {
   "cell_type": "code",
   "execution_count": 7,
   "metadata": {},
   "outputs": [
    {
     "output_type": "execute_result",
     "data": {
      "text/plain": "mass_npea         0\nsize_npear        0\nmalign_ratio      0\ndamage_size       0\nexposed_area      0\nstd_dev_malign    0\nerr_malign        0\nmalign_penalty    0\ndamage_ratio      0\ntumor_size        0\ndtype: int64"
     },
     "metadata": {},
     "execution_count": 7
    }
   ],
   "source": [
    "df.isnull().sum()"
   ]
  },
  {
   "cell_type": "markdown",
   "metadata": {},
   "source": [
    "Therefore There is no missing values in the Dataset"
   ]
  },
  {
   "cell_type": "markdown",
   "metadata": {},
   "source": [
    "**looking for correlation with tumor size**"
   ]
  },
  {
   "cell_type": "code",
   "execution_count": 8,
   "metadata": {},
   "outputs": [
    {
     "output_type": "execute_result",
     "data": {
      "text/plain": "tumor_size        1.000000\nmalign_ratio      0.374273\nsize_npear        0.164761\ndamage_ratio      0.054892\nmalign_penalty    0.011871\nerr_malign        0.004484\nexposed_area     -0.003641\nmass_npea        -0.004679\nstd_dev_malign   -0.030085\ndamage_size      -0.163804\nName: tumor_size, dtype: float64"
     },
     "metadata": {},
     "execution_count": 8
    }
   ],
   "source": [
    "df.corr()['tumor_size'].sort_values(ascending=False)"
   ]
  },
  {
   "cell_type": "markdown",
   "metadata": {},
   "source": [
    "**Feature Importance**"
   ]
  },
  {
   "cell_type": "code",
   "execution_count": 9,
   "metadata": {},
   "outputs": [
    {
     "output_type": "display_data",
     "data": {
      "text/plain": "<Figure size 432x288 with 1 Axes>",
      "image/svg+xml": "<?xml version=\"1.0\" encoding=\"utf-8\" standalone=\"no\"?>\r\n<!DOCTYPE svg PUBLIC \"-//W3C//DTD SVG 1.1//EN\"\r\n  \"http://www.w3.org/Graphics/SVG/1.1/DTD/svg11.dtd\">\r\n<!-- Created with matplotlib (http://matplotlib.org/) -->\r\n<svg height=\"257.399844pt\" version=\"1.1\" viewBox=\"0 0 441.742969 257.399844\" width=\"441.742969pt\" xmlns=\"http://www.w3.org/2000/svg\" xmlns:xlink=\"http://www.w3.org/1999/xlink\">\r\n <defs>\r\n  <style type=\"text/css\">\r\n*{stroke-linecap:butt;stroke-linejoin:round;}\r\n  </style>\r\n </defs>\r\n <g id=\"figure_1\">\r\n  <g id=\"patch_1\">\r\n   <path d=\"M 0 257.399844 \r\nL 441.742969 257.399844 \r\nL 441.742969 0 \r\nL 0 0 \r\nz\r\n\" style=\"fill:none;\"/>\r\n  </g>\r\n  <g id=\"axes_1\">\r\n   <g id=\"patch_2\">\r\n    <path d=\"M 93.742969 230.64 \r\nL 428.542969 230.64 \r\nL 428.542969 13.2 \r\nL 93.742969 13.2 \r\nz\r\n\" style=\"fill:#eaeaf2;\"/>\r\n   </g>\r\n   <g id=\"matplotlib.axis_1\">\r\n    <g id=\"xtick_1\">\r\n     <g id=\"line2d_1\">\r\n      <path clip-path=\"url(#pc59c9b1e5d)\" d=\"M 93.742969 230.64 \r\nL 93.742969 13.2 \r\n\" style=\"fill:none;stroke:#ffffff;stroke-linecap:round;\"/>\r\n     </g>\r\n     <g id=\"text_1\">\r\n      <!-- 0.000 -->\r\n      <defs>\r\n       <path d=\"M 4.15625 35.296875 \r\nQ 4.15625 48 6.765625 55.734375 \r\nQ 9.375 63.484375 14.515625 67.671875 \r\nQ 19.671875 71.875 27.484375 71.875 \r\nQ 33.25 71.875 37.59375 69.546875 \r\nQ 41.9375 67.234375 44.765625 62.859375 \r\nQ 47.609375 58.5 49.21875 52.21875 \r\nQ 50.828125 45.953125 50.828125 35.296875 \r\nQ 50.828125 22.703125 48.234375 14.96875 \r\nQ 45.65625 7.234375 40.5 3 \r\nQ 35.359375 -1.21875 27.484375 -1.21875 \r\nQ 17.140625 -1.21875 11.234375 6.203125 \r\nQ 4.15625 15.140625 4.15625 35.296875 \r\nz\r\nM 13.1875 35.296875 \r\nQ 13.1875 17.671875 17.3125 11.828125 \r\nQ 21.4375 6 27.484375 6 \r\nQ 33.546875 6 37.671875 11.859375 \r\nQ 41.796875 17.71875 41.796875 35.296875 \r\nQ 41.796875 52.984375 37.671875 58.78125 \r\nQ 33.546875 64.59375 27.390625 64.59375 \r\nQ 21.34375 64.59375 17.71875 59.46875 \r\nQ 13.1875 52.9375 13.1875 35.296875 \r\nz\r\n\" id=\"ArialMT-30\"/>\r\n       <path d=\"M 9.078125 0 \r\nL 9.078125 10.015625 \r\nL 19.09375 10.015625 \r\nL 19.09375 0 \r\nz\r\n\" id=\"ArialMT-2e\"/>\r\n      </defs>\r\n      <g style=\"fill:#262626;\" transform=\"translate(79.980938 248.013594)scale(0.11 -0.11)\">\r\n       <use xlink:href=\"#ArialMT-30\"/>\r\n       <use x=\"55.615234\" xlink:href=\"#ArialMT-2e\"/>\r\n       <use x=\"83.398438\" xlink:href=\"#ArialMT-30\"/>\r\n       <use x=\"139.013672\" xlink:href=\"#ArialMT-30\"/>\r\n       <use x=\"194.628906\" xlink:href=\"#ArialMT-30\"/>\r\n      </g>\r\n     </g>\r\n    </g>\r\n    <g id=\"xtick_2\">\r\n     <g id=\"line2d_2\">\r\n      <path clip-path=\"url(#pc59c9b1e5d)\" d=\"M 135.909367 230.64 \r\nL 135.909367 13.2 \r\n\" style=\"fill:none;stroke:#ffffff;stroke-linecap:round;\"/>\r\n     </g>\r\n     <g id=\"text_2\">\r\n      <!-- 0.025 -->\r\n      <defs>\r\n       <path d=\"M 50.34375 8.453125 \r\nL 50.34375 0 \r\nL 3.03125 0 \r\nQ 2.9375 3.171875 4.046875 6.109375 \r\nQ 5.859375 10.9375 9.828125 15.625 \r\nQ 13.8125 20.3125 21.34375 26.46875 \r\nQ 33.015625 36.03125 37.109375 41.625 \r\nQ 41.21875 47.21875 41.21875 52.203125 \r\nQ 41.21875 57.421875 37.46875 61 \r\nQ 33.734375 64.59375 27.734375 64.59375 \r\nQ 21.390625 64.59375 17.578125 60.78125 \r\nQ 13.765625 56.984375 13.71875 50.25 \r\nL 4.6875 51.171875 \r\nQ 5.609375 61.28125 11.65625 66.578125 \r\nQ 17.71875 71.875 27.9375 71.875 \r\nQ 38.234375 71.875 44.234375 66.15625 \r\nQ 50.25 60.453125 50.25 52 \r\nQ 50.25 47.703125 48.484375 43.546875 \r\nQ 46.734375 39.40625 42.65625 34.8125 \r\nQ 38.578125 30.21875 29.109375 22.21875 \r\nQ 21.1875 15.578125 18.9375 13.203125 \r\nQ 16.703125 10.84375 15.234375 8.453125 \r\nz\r\n\" id=\"ArialMT-32\"/>\r\n       <path d=\"M 4.15625 18.75 \r\nL 13.375 19.53125 \r\nQ 14.40625 12.796875 18.140625 9.390625 \r\nQ 21.875 6 27.15625 6 \r\nQ 33.5 6 37.890625 10.78125 \r\nQ 42.28125 15.578125 42.28125 23.484375 \r\nQ 42.28125 31 38.0625 35.34375 \r\nQ 33.84375 39.703125 27 39.703125 \r\nQ 22.75 39.703125 19.328125 37.765625 \r\nQ 15.921875 35.84375 13.96875 32.765625 \r\nL 5.71875 33.84375 \r\nL 12.640625 70.609375 \r\nL 48.25 70.609375 \r\nL 48.25 62.203125 \r\nL 19.671875 62.203125 \r\nL 15.828125 42.96875 \r\nQ 22.265625 47.46875 29.34375 47.46875 \r\nQ 38.71875 47.46875 45.15625 40.96875 \r\nQ 51.609375 34.46875 51.609375 24.265625 \r\nQ 51.609375 14.546875 45.953125 7.46875 \r\nQ 39.0625 -1.21875 27.15625 -1.21875 \r\nQ 17.390625 -1.21875 11.203125 4.25 \r\nQ 5.03125 9.71875 4.15625 18.75 \r\nz\r\n\" id=\"ArialMT-35\"/>\r\n      </defs>\r\n      <g style=\"fill:#262626;\" transform=\"translate(122.147335 248.013594)scale(0.11 -0.11)\">\r\n       <use xlink:href=\"#ArialMT-30\"/>\r\n       <use x=\"55.615234\" xlink:href=\"#ArialMT-2e\"/>\r\n       <use x=\"83.398438\" xlink:href=\"#ArialMT-30\"/>\r\n       <use x=\"139.013672\" xlink:href=\"#ArialMT-32\"/>\r\n       <use x=\"194.628906\" xlink:href=\"#ArialMT-35\"/>\r\n      </g>\r\n     </g>\r\n    </g>\r\n    <g id=\"xtick_3\">\r\n     <g id=\"line2d_3\">\r\n      <path clip-path=\"url(#pc59c9b1e5d)\" d=\"M 178.075764 230.64 \r\nL 178.075764 13.2 \r\n\" style=\"fill:none;stroke:#ffffff;stroke-linecap:round;\"/>\r\n     </g>\r\n     <g id=\"text_3\">\r\n      <!-- 0.050 -->\r\n      <g style=\"fill:#262626;\" transform=\"translate(164.313733 248.013594)scale(0.11 -0.11)\">\r\n       <use xlink:href=\"#ArialMT-30\"/>\r\n       <use x=\"55.615234\" xlink:href=\"#ArialMT-2e\"/>\r\n       <use x=\"83.398438\" xlink:href=\"#ArialMT-30\"/>\r\n       <use x=\"139.013672\" xlink:href=\"#ArialMT-35\"/>\r\n       <use x=\"194.628906\" xlink:href=\"#ArialMT-30\"/>\r\n      </g>\r\n     </g>\r\n    </g>\r\n    <g id=\"xtick_4\">\r\n     <g id=\"line2d_4\">\r\n      <path clip-path=\"url(#pc59c9b1e5d)\" d=\"M 220.242162 230.64 \r\nL 220.242162 13.2 \r\n\" style=\"fill:none;stroke:#ffffff;stroke-linecap:round;\"/>\r\n     </g>\r\n     <g id=\"text_4\">\r\n      <!-- 0.075 -->\r\n      <defs>\r\n       <path d=\"M 4.734375 62.203125 \r\nL 4.734375 70.65625 \r\nL 51.078125 70.65625 \r\nL 51.078125 63.8125 \r\nQ 44.234375 56.546875 37.515625 44.484375 \r\nQ 30.8125 32.421875 27.15625 19.671875 \r\nQ 24.515625 10.6875 23.78125 0 \r\nL 14.75 0 \r\nQ 14.890625 8.453125 18.0625 20.40625 \r\nQ 21.234375 32.375 27.171875 43.484375 \r\nQ 33.109375 54.59375 39.796875 62.203125 \r\nz\r\n\" id=\"ArialMT-37\"/>\r\n      </defs>\r\n      <g style=\"fill:#262626;\" transform=\"translate(206.480131 248.013594)scale(0.11 -0.11)\">\r\n       <use xlink:href=\"#ArialMT-30\"/>\r\n       <use x=\"55.615234\" xlink:href=\"#ArialMT-2e\"/>\r\n       <use x=\"83.398438\" xlink:href=\"#ArialMT-30\"/>\r\n       <use x=\"139.013672\" xlink:href=\"#ArialMT-37\"/>\r\n       <use x=\"194.628906\" xlink:href=\"#ArialMT-35\"/>\r\n      </g>\r\n     </g>\r\n    </g>\r\n    <g id=\"xtick_5\">\r\n     <g id=\"line2d_5\">\r\n      <path clip-path=\"url(#pc59c9b1e5d)\" d=\"M 262.40856 230.64 \r\nL 262.40856 13.2 \r\n\" style=\"fill:none;stroke:#ffffff;stroke-linecap:round;\"/>\r\n     </g>\r\n     <g id=\"text_5\">\r\n      <!-- 0.100 -->\r\n      <defs>\r\n       <path d=\"M 37.25 0 \r\nL 28.46875 0 \r\nL 28.46875 56 \r\nQ 25.296875 52.984375 20.140625 49.953125 \r\nQ 14.984375 46.921875 10.890625 45.40625 \r\nL 10.890625 53.90625 \r\nQ 18.265625 57.375 23.78125 62.296875 \r\nQ 29.296875 67.234375 31.59375 71.875 \r\nL 37.25 71.875 \r\nz\r\n\" id=\"ArialMT-31\"/>\r\n      </defs>\r\n      <g style=\"fill:#262626;\" transform=\"translate(248.646529 248.013594)scale(0.11 -0.11)\">\r\n       <use xlink:href=\"#ArialMT-30\"/>\r\n       <use x=\"55.615234\" xlink:href=\"#ArialMT-2e\"/>\r\n       <use x=\"83.398438\" xlink:href=\"#ArialMT-31\"/>\r\n       <use x=\"139.013672\" xlink:href=\"#ArialMT-30\"/>\r\n       <use x=\"194.628906\" xlink:href=\"#ArialMT-30\"/>\r\n      </g>\r\n     </g>\r\n    </g>\r\n    <g id=\"xtick_6\">\r\n     <g id=\"line2d_6\">\r\n      <path clip-path=\"url(#pc59c9b1e5d)\" d=\"M 304.574958 230.64 \r\nL 304.574958 13.2 \r\n\" style=\"fill:none;stroke:#ffffff;stroke-linecap:round;\"/>\r\n     </g>\r\n     <g id=\"text_6\">\r\n      <!-- 0.125 -->\r\n      <g style=\"fill:#262626;\" transform=\"translate(290.812926 248.013594)scale(0.11 -0.11)\">\r\n       <use xlink:href=\"#ArialMT-30\"/>\r\n       <use x=\"55.615234\" xlink:href=\"#ArialMT-2e\"/>\r\n       <use x=\"83.398438\" xlink:href=\"#ArialMT-31\"/>\r\n       <use x=\"139.013672\" xlink:href=\"#ArialMT-32\"/>\r\n       <use x=\"194.628906\" xlink:href=\"#ArialMT-35\"/>\r\n      </g>\r\n     </g>\r\n    </g>\r\n    <g id=\"xtick_7\">\r\n     <g id=\"line2d_7\">\r\n      <path clip-path=\"url(#pc59c9b1e5d)\" d=\"M 346.741355 230.64 \r\nL 346.741355 13.2 \r\n\" style=\"fill:none;stroke:#ffffff;stroke-linecap:round;\"/>\r\n     </g>\r\n     <g id=\"text_7\">\r\n      <!-- 0.150 -->\r\n      <g style=\"fill:#262626;\" transform=\"translate(332.979324 248.013594)scale(0.11 -0.11)\">\r\n       <use xlink:href=\"#ArialMT-30\"/>\r\n       <use x=\"55.615234\" xlink:href=\"#ArialMT-2e\"/>\r\n       <use x=\"83.398438\" xlink:href=\"#ArialMT-31\"/>\r\n       <use x=\"139.013672\" xlink:href=\"#ArialMT-35\"/>\r\n       <use x=\"194.628906\" xlink:href=\"#ArialMT-30\"/>\r\n      </g>\r\n     </g>\r\n    </g>\r\n    <g id=\"xtick_8\">\r\n     <g id=\"line2d_8\">\r\n      <path clip-path=\"url(#pc59c9b1e5d)\" d=\"M 388.907753 230.64 \r\nL 388.907753 13.2 \r\n\" style=\"fill:none;stroke:#ffffff;stroke-linecap:round;\"/>\r\n     </g>\r\n     <g id=\"text_8\">\r\n      <!-- 0.175 -->\r\n      <g style=\"fill:#262626;\" transform=\"translate(375.145722 248.013594)scale(0.11 -0.11)\">\r\n       <use xlink:href=\"#ArialMT-30\"/>\r\n       <use x=\"55.615234\" xlink:href=\"#ArialMT-2e\"/>\r\n       <use x=\"83.398438\" xlink:href=\"#ArialMT-31\"/>\r\n       <use x=\"139.013672\" xlink:href=\"#ArialMT-37\"/>\r\n       <use x=\"194.628906\" xlink:href=\"#ArialMT-35\"/>\r\n      </g>\r\n     </g>\r\n    </g>\r\n   </g>\r\n   <g id=\"matplotlib.axis_2\">\r\n    <g id=\"ytick_1\">\r\n     <g id=\"line2d_9\">\r\n      <path clip-path=\"url(#pc59c9b1e5d)\" d=\"M 93.742969 218.56 \r\nL 428.542969 218.56 \r\n\" style=\"fill:none;stroke:#ffffff;stroke-linecap:round;\"/>\r\n     </g>\r\n     <g id=\"text_9\">\r\n      <!-- malign_ratio -->\r\n      <defs>\r\n       <path d=\"M 6.59375 0 \r\nL 6.59375 51.859375 \r\nL 14.453125 51.859375 \r\nL 14.453125 44.578125 \r\nQ 16.890625 48.390625 20.9375 50.703125 \r\nQ 25 53.03125 30.171875 53.03125 \r\nQ 35.9375 53.03125 39.625 50.640625 \r\nQ 43.3125 48.25 44.828125 43.953125 \r\nQ 50.984375 53.03125 60.84375 53.03125 \r\nQ 68.5625 53.03125 72.703125 48.75 \r\nQ 76.859375 44.484375 76.859375 35.59375 \r\nL 76.859375 0 \r\nL 68.109375 0 \r\nL 68.109375 32.671875 \r\nQ 68.109375 37.9375 67.25 40.25 \r\nQ 66.40625 42.578125 64.15625 43.984375 \r\nQ 61.921875 45.40625 58.890625 45.40625 \r\nQ 53.421875 45.40625 49.796875 41.765625 \r\nQ 46.1875 38.140625 46.1875 30.125 \r\nL 46.1875 0 \r\nL 37.40625 0 \r\nL 37.40625 33.6875 \r\nQ 37.40625 39.546875 35.25 42.46875 \r\nQ 33.109375 45.40625 28.21875 45.40625 \r\nQ 24.515625 45.40625 21.359375 43.453125 \r\nQ 18.21875 41.5 16.796875 37.734375 \r\nQ 15.375 33.984375 15.375 26.90625 \r\nL 15.375 0 \r\nz\r\n\" id=\"ArialMT-6d\"/>\r\n       <path d=\"M 40.4375 6.390625 \r\nQ 35.546875 2.25 31.03125 0.53125 \r\nQ 26.515625 -1.171875 21.34375 -1.171875 \r\nQ 12.796875 -1.171875 8.203125 3 \r\nQ 3.609375 7.171875 3.609375 13.671875 \r\nQ 3.609375 17.484375 5.34375 20.625 \r\nQ 7.078125 23.78125 9.890625 25.6875 \r\nQ 12.703125 27.59375 16.21875 28.5625 \r\nQ 18.796875 29.25 24.03125 29.890625 \r\nQ 34.671875 31.15625 39.703125 32.90625 \r\nQ 39.75 34.71875 39.75 35.203125 \r\nQ 39.75 40.578125 37.25 42.78125 \r\nQ 33.890625 45.75 27.25 45.75 \r\nQ 21.046875 45.75 18.09375 43.578125 \r\nQ 15.140625 41.40625 13.71875 35.890625 \r\nL 5.125 37.0625 \r\nQ 6.296875 42.578125 8.984375 45.96875 \r\nQ 11.671875 49.359375 16.75 51.1875 \r\nQ 21.828125 53.03125 28.515625 53.03125 \r\nQ 35.15625 53.03125 39.296875 51.46875 \r\nQ 43.453125 49.90625 45.40625 47.53125 \r\nQ 47.359375 45.171875 48.140625 41.546875 \r\nQ 48.578125 39.3125 48.578125 33.453125 \r\nL 48.578125 21.734375 \r\nQ 48.578125 9.46875 49.140625 6.21875 \r\nQ 49.703125 2.984375 51.375 0 \r\nL 42.1875 0 \r\nQ 40.828125 2.734375 40.4375 6.390625 \r\nz\r\nM 39.703125 26.03125 \r\nQ 34.90625 24.078125 25.34375 22.703125 \r\nQ 19.921875 21.921875 17.671875 20.9375 \r\nQ 15.4375 19.96875 14.203125 18.09375 \r\nQ 12.984375 16.21875 12.984375 13.921875 \r\nQ 12.984375 10.40625 15.640625 8.0625 \r\nQ 18.3125 5.71875 23.4375 5.71875 \r\nQ 28.515625 5.71875 32.46875 7.9375 \r\nQ 36.421875 10.15625 38.28125 14.015625 \r\nQ 39.703125 17 39.703125 22.796875 \r\nz\r\n\" id=\"ArialMT-61\"/>\r\n       <path d=\"M 6.390625 0 \r\nL 6.390625 71.578125 \r\nL 15.1875 71.578125 \r\nL 15.1875 0 \r\nz\r\n\" id=\"ArialMT-6c\"/>\r\n       <path d=\"M 6.640625 61.46875 \r\nL 6.640625 71.578125 \r\nL 15.4375 71.578125 \r\nL 15.4375 61.46875 \r\nz\r\nM 6.640625 0 \r\nL 6.640625 51.859375 \r\nL 15.4375 51.859375 \r\nL 15.4375 0 \r\nz\r\n\" id=\"ArialMT-69\"/>\r\n       <path d=\"M 4.984375 -4.296875 \r\nL 13.53125 -5.5625 \r\nQ 14.0625 -9.515625 16.5 -11.328125 \r\nQ 19.78125 -13.765625 25.4375 -13.765625 \r\nQ 31.546875 -13.765625 34.859375 -11.328125 \r\nQ 38.1875 -8.890625 39.359375 -4.5 \r\nQ 40.046875 -1.8125 39.984375 6.78125 \r\nQ 34.234375 0 25.640625 0 \r\nQ 14.9375 0 9.078125 7.71875 \r\nQ 3.21875 15.4375 3.21875 26.21875 \r\nQ 3.21875 33.640625 5.90625 39.90625 \r\nQ 8.59375 46.1875 13.6875 49.609375 \r\nQ 18.796875 53.03125 25.6875 53.03125 \r\nQ 34.859375 53.03125 40.828125 45.609375 \r\nL 40.828125 51.859375 \r\nL 48.921875 51.859375 \r\nL 48.921875 7.03125 \r\nQ 48.921875 -5.078125 46.453125 -10.125 \r\nQ 44 -15.1875 38.640625 -18.109375 \r\nQ 33.296875 -21.046875 25.484375 -21.046875 \r\nQ 16.21875 -21.046875 10.5 -16.875 \r\nQ 4.78125 -12.703125 4.984375 -4.296875 \r\nz\r\nM 12.25 26.859375 \r\nQ 12.25 16.65625 16.296875 11.96875 \r\nQ 20.359375 7.28125 26.46875 7.28125 \r\nQ 32.515625 7.28125 36.609375 11.9375 \r\nQ 40.71875 16.609375 40.71875 26.5625 \r\nQ 40.71875 36.078125 36.5 40.90625 \r\nQ 32.28125 45.75 26.3125 45.75 \r\nQ 20.453125 45.75 16.34375 40.984375 \r\nQ 12.25 36.234375 12.25 26.859375 \r\nz\r\n\" id=\"ArialMT-67\"/>\r\n       <path d=\"M 6.59375 0 \r\nL 6.59375 51.859375 \r\nL 14.5 51.859375 \r\nL 14.5 44.484375 \r\nQ 20.21875 53.03125 31 53.03125 \r\nQ 35.6875 53.03125 39.625 51.34375 \r\nQ 43.5625 49.65625 45.515625 46.921875 \r\nQ 47.46875 44.1875 48.25 40.4375 \r\nQ 48.734375 37.984375 48.734375 31.890625 \r\nL 48.734375 0 \r\nL 39.9375 0 \r\nL 39.9375 31.546875 \r\nQ 39.9375 36.921875 38.90625 39.578125 \r\nQ 37.890625 42.234375 35.28125 43.8125 \r\nQ 32.671875 45.40625 29.15625 45.40625 \r\nQ 23.53125 45.40625 19.453125 41.84375 \r\nQ 15.375 38.28125 15.375 28.328125 \r\nL 15.375 0 \r\nz\r\n\" id=\"ArialMT-6e\"/>\r\n       <path d=\"M -1.515625 -19.875 \r\nL -1.515625 -13.53125 \r\nL 56.734375 -13.53125 \r\nL 56.734375 -19.875 \r\nz\r\n\" id=\"ArialMT-5f\"/>\r\n       <path d=\"M 6.5 0 \r\nL 6.5 51.859375 \r\nL 14.40625 51.859375 \r\nL 14.40625 44 \r\nQ 17.4375 49.515625 20 51.265625 \r\nQ 22.5625 53.03125 25.640625 53.03125 \r\nQ 30.078125 53.03125 34.671875 50.203125 \r\nL 31.640625 42.046875 \r\nQ 28.421875 43.953125 25.203125 43.953125 \r\nQ 22.3125 43.953125 20.015625 42.21875 \r\nQ 17.71875 40.484375 16.75 37.40625 \r\nQ 15.28125 32.71875 15.28125 27.15625 \r\nL 15.28125 0 \r\nz\r\n\" id=\"ArialMT-72\"/>\r\n       <path d=\"M 25.78125 7.859375 \r\nL 27.046875 0.09375 \r\nQ 23.34375 -0.6875 20.40625 -0.6875 \r\nQ 15.625 -0.6875 12.984375 0.828125 \r\nQ 10.359375 2.34375 9.28125 4.8125 \r\nQ 8.203125 7.28125 8.203125 15.1875 \r\nL 8.203125 45.015625 \r\nL 1.765625 45.015625 \r\nL 1.765625 51.859375 \r\nL 8.203125 51.859375 \r\nL 8.203125 64.703125 \r\nL 16.9375 69.96875 \r\nL 16.9375 51.859375 \r\nL 25.78125 51.859375 \r\nL 25.78125 45.015625 \r\nL 16.9375 45.015625 \r\nL 16.9375 14.703125 \r\nQ 16.9375 10.9375 17.40625 9.859375 \r\nQ 17.875 8.796875 18.921875 8.15625 \r\nQ 19.96875 7.515625 21.921875 7.515625 \r\nQ 23.390625 7.515625 25.78125 7.859375 \r\nz\r\n\" id=\"ArialMT-74\"/>\r\n       <path d=\"M 3.328125 25.921875 \r\nQ 3.328125 40.328125 11.328125 47.265625 \r\nQ 18.015625 53.03125 27.640625 53.03125 \r\nQ 38.328125 53.03125 45.109375 46.015625 \r\nQ 51.90625 39.015625 51.90625 26.65625 \r\nQ 51.90625 16.65625 48.90625 10.90625 \r\nQ 45.90625 5.171875 40.15625 2 \r\nQ 34.421875 -1.171875 27.640625 -1.171875 \r\nQ 16.75 -1.171875 10.03125 5.8125 \r\nQ 3.328125 12.796875 3.328125 25.921875 \r\nz\r\nM 12.359375 25.921875 \r\nQ 12.359375 15.96875 16.703125 11.015625 \r\nQ 21.046875 6.0625 27.640625 6.0625 \r\nQ 34.1875 6.0625 38.53125 11.03125 \r\nQ 42.875 16.015625 42.875 26.21875 \r\nQ 42.875 35.84375 38.5 40.796875 \r\nQ 34.125 45.75 27.640625 45.75 \r\nQ 21.046875 45.75 16.703125 40.8125 \r\nQ 12.359375 35.890625 12.359375 25.921875 \r\nz\r\n\" id=\"ArialMT-6f\"/>\r\n      </defs>\r\n      <g style=\"fill:#262626;\" transform=\"translate(24.327344 222.496797)scale(0.11 -0.11)\">\r\n       <use xlink:href=\"#ArialMT-6d\"/>\r\n       <use x=\"83.300781\" xlink:href=\"#ArialMT-61\"/>\r\n       <use x=\"138.916016\" xlink:href=\"#ArialMT-6c\"/>\r\n       <use x=\"161.132812\" xlink:href=\"#ArialMT-69\"/>\r\n       <use x=\"183.349609\" xlink:href=\"#ArialMT-67\"/>\r\n       <use x=\"238.964844\" xlink:href=\"#ArialMT-6e\"/>\r\n       <use x=\"294.580078\" xlink:href=\"#ArialMT-5f\"/>\r\n       <use x=\"350.195312\" xlink:href=\"#ArialMT-72\"/>\r\n       <use x=\"383.496094\" xlink:href=\"#ArialMT-61\"/>\r\n       <use x=\"439.111328\" xlink:href=\"#ArialMT-74\"/>\r\n       <use x=\"466.894531\" xlink:href=\"#ArialMT-69\"/>\r\n       <use x=\"489.111328\" xlink:href=\"#ArialMT-6f\"/>\r\n      </g>\r\n     </g>\r\n    </g>\r\n    <g id=\"ytick_2\">\r\n     <g id=\"line2d_10\">\r\n      <path clip-path=\"url(#pc59c9b1e5d)\" d=\"M 93.742969 194.4 \r\nL 428.542969 194.4 \r\n\" style=\"fill:none;stroke:#ffffff;stroke-linecap:round;\"/>\r\n     </g>\r\n     <g id=\"text_10\">\r\n      <!-- damage_size -->\r\n      <defs>\r\n       <path d=\"M 40.234375 0 \r\nL 40.234375 6.546875 \r\nQ 35.296875 -1.171875 25.734375 -1.171875 \r\nQ 19.53125 -1.171875 14.328125 2.25 \r\nQ 9.125 5.671875 6.265625 11.796875 \r\nQ 3.421875 17.921875 3.421875 25.875 \r\nQ 3.421875 33.640625 6 39.96875 \r\nQ 8.59375 46.296875 13.765625 49.65625 \r\nQ 18.953125 53.03125 25.34375 53.03125 \r\nQ 30.03125 53.03125 33.6875 51.046875 \r\nQ 37.359375 49.078125 39.65625 45.90625 \r\nL 39.65625 71.578125 \r\nL 48.390625 71.578125 \r\nL 48.390625 0 \r\nz\r\nM 12.453125 25.875 \r\nQ 12.453125 15.921875 16.640625 10.984375 \r\nQ 20.84375 6.0625 26.5625 6.0625 \r\nQ 32.328125 6.0625 36.34375 10.765625 \r\nQ 40.375 15.484375 40.375 25.140625 \r\nQ 40.375 35.796875 36.265625 40.765625 \r\nQ 32.171875 45.75 26.171875 45.75 \r\nQ 20.3125 45.75 16.375 40.96875 \r\nQ 12.453125 36.1875 12.453125 25.875 \r\nz\r\n\" id=\"ArialMT-64\"/>\r\n       <path d=\"M 42.09375 16.703125 \r\nL 51.171875 15.578125 \r\nQ 49.03125 7.625 43.21875 3.21875 \r\nQ 37.40625 -1.171875 28.375 -1.171875 \r\nQ 17 -1.171875 10.328125 5.828125 \r\nQ 3.65625 12.84375 3.65625 25.484375 \r\nQ 3.65625 38.578125 10.390625 45.796875 \r\nQ 17.140625 53.03125 27.875 53.03125 \r\nQ 38.28125 53.03125 44.875 45.953125 \r\nQ 51.46875 38.875 51.46875 26.03125 \r\nQ 51.46875 25.25 51.421875 23.6875 \r\nL 12.75 23.6875 \r\nQ 13.234375 15.140625 17.578125 10.59375 \r\nQ 21.921875 6.0625 28.421875 6.0625 \r\nQ 33.25 6.0625 36.671875 8.59375 \r\nQ 40.09375 11.140625 42.09375 16.703125 \r\nz\r\nM 13.234375 30.90625 \r\nL 42.1875 30.90625 \r\nQ 41.609375 37.453125 38.875 40.71875 \r\nQ 34.671875 45.796875 27.984375 45.796875 \r\nQ 21.921875 45.796875 17.796875 41.75 \r\nQ 13.671875 37.703125 13.234375 30.90625 \r\nz\r\n\" id=\"ArialMT-65\"/>\r\n       <path d=\"M 3.078125 15.484375 \r\nL 11.765625 16.84375 \r\nQ 12.5 11.625 15.84375 8.84375 \r\nQ 19.1875 6.0625 25.203125 6.0625 \r\nQ 31.25 6.0625 34.171875 8.515625 \r\nQ 37.109375 10.984375 37.109375 14.3125 \r\nQ 37.109375 17.28125 34.515625 19 \r\nQ 32.71875 20.171875 25.53125 21.96875 \r\nQ 15.875 24.421875 12.140625 26.203125 \r\nQ 8.40625 27.984375 6.46875 31.125 \r\nQ 4.546875 34.28125 4.546875 38.09375 \r\nQ 4.546875 41.546875 6.125 44.5 \r\nQ 7.71875 47.46875 10.453125 49.421875 \r\nQ 12.5 50.921875 16.03125 51.96875 \r\nQ 19.578125 53.03125 23.640625 53.03125 \r\nQ 29.734375 53.03125 34.34375 51.265625 \r\nQ 38.96875 49.515625 41.15625 46.5 \r\nQ 43.359375 43.5 44.1875 38.484375 \r\nL 35.59375 37.3125 \r\nQ 35.015625 41.3125 32.203125 43.546875 \r\nQ 29.390625 45.796875 24.265625 45.796875 \r\nQ 18.21875 45.796875 15.625 43.796875 \r\nQ 13.03125 41.796875 13.03125 39.109375 \r\nQ 13.03125 37.40625 14.109375 36.03125 \r\nQ 15.1875 34.625 17.484375 33.6875 \r\nQ 18.796875 33.203125 25.25 31.453125 \r\nQ 34.578125 28.953125 38.25 27.359375 \r\nQ 41.9375 25.78125 44.03125 22.75 \r\nQ 46.140625 19.734375 46.140625 15.234375 \r\nQ 46.140625 10.84375 43.578125 6.953125 \r\nQ 41.015625 3.078125 36.171875 0.953125 \r\nQ 31.34375 -1.171875 25.25 -1.171875 \r\nQ 15.140625 -1.171875 9.84375 3.03125 \r\nQ 4.546875 7.234375 3.078125 15.484375 \r\nz\r\n\" id=\"ArialMT-73\"/>\r\n       <path d=\"M 1.953125 0 \r\nL 1.953125 7.125 \r\nL 34.96875 45.015625 \r\nQ 29.34375 44.734375 25.046875 44.734375 \r\nL 3.90625 44.734375 \r\nL 3.90625 51.859375 \r\nL 46.296875 51.859375 \r\nL 46.296875 46.046875 \r\nL 18.21875 13.140625 \r\nL 12.796875 7.125 \r\nQ 18.703125 7.5625 23.875 7.5625 \r\nL 47.859375 7.5625 \r\nL 47.859375 0 \r\nz\r\n\" id=\"ArialMT-7a\"/>\r\n      </defs>\r\n      <g style=\"fill:#262626;\" transform=\"translate(18.817031 198.336797)scale(0.11 -0.11)\">\r\n       <use xlink:href=\"#ArialMT-64\"/>\r\n       <use x=\"55.615234\" xlink:href=\"#ArialMT-61\"/>\r\n       <use x=\"111.230469\" xlink:href=\"#ArialMT-6d\"/>\r\n       <use x=\"194.53125\" xlink:href=\"#ArialMT-61\"/>\r\n       <use x=\"250.146484\" xlink:href=\"#ArialMT-67\"/>\r\n       <use x=\"305.761719\" xlink:href=\"#ArialMT-65\"/>\r\n       <use x=\"361.376953\" xlink:href=\"#ArialMT-5f\"/>\r\n       <use x=\"416.992188\" xlink:href=\"#ArialMT-73\"/>\r\n       <use x=\"466.992188\" xlink:href=\"#ArialMT-69\"/>\r\n       <use x=\"489.208984\" xlink:href=\"#ArialMT-7a\"/>\r\n       <use x=\"539.208984\" xlink:href=\"#ArialMT-65\"/>\r\n      </g>\r\n     </g>\r\n    </g>\r\n    <g id=\"ytick_3\">\r\n     <g id=\"line2d_11\">\r\n      <path clip-path=\"url(#pc59c9b1e5d)\" d=\"M 93.742969 170.24 \r\nL 428.542969 170.24 \r\n\" style=\"fill:none;stroke:#ffffff;stroke-linecap:round;\"/>\r\n     </g>\r\n     <g id=\"text_11\">\r\n      <!-- malign_penalty -->\r\n      <defs>\r\n       <path d=\"M 6.59375 -19.875 \r\nL 6.59375 51.859375 \r\nL 14.59375 51.859375 \r\nL 14.59375 45.125 \r\nQ 17.4375 49.078125 21 51.046875 \r\nQ 24.5625 53.03125 29.640625 53.03125 \r\nQ 36.28125 53.03125 41.359375 49.609375 \r\nQ 46.4375 46.1875 49.015625 39.953125 \r\nQ 51.609375 33.734375 51.609375 26.3125 \r\nQ 51.609375 18.359375 48.75 11.984375 \r\nQ 45.90625 5.609375 40.453125 2.21875 \r\nQ 35.015625 -1.171875 29 -1.171875 \r\nQ 24.609375 -1.171875 21.109375 0.6875 \r\nQ 17.625 2.546875 15.375 5.375 \r\nL 15.375 -19.875 \r\nz\r\nM 14.546875 25.640625 \r\nQ 14.546875 15.625 18.59375 10.84375 \r\nQ 22.65625 6.0625 28.421875 6.0625 \r\nQ 34.28125 6.0625 38.453125 11.015625 \r\nQ 42.625 15.96875 42.625 26.375 \r\nQ 42.625 36.28125 38.546875 41.203125 \r\nQ 34.46875 46.140625 28.8125 46.140625 \r\nQ 23.1875 46.140625 18.859375 40.890625 \r\nQ 14.546875 35.640625 14.546875 25.640625 \r\nz\r\n\" id=\"ArialMT-70\"/>\r\n       <path d=\"M 6.203125 -19.96875 \r\nL 5.21875 -11.71875 \r\nQ 8.109375 -12.5 10.25 -12.5 \r\nQ 13.1875 -12.5 14.9375 -11.515625 \r\nQ 16.703125 -10.546875 17.828125 -8.796875 \r\nQ 18.65625 -7.46875 20.515625 -2.25 \r\nQ 20.75 -1.515625 21.296875 -0.09375 \r\nL 1.609375 51.859375 \r\nL 11.078125 51.859375 \r\nL 21.875 21.828125 \r\nQ 23.96875 16.109375 25.640625 9.8125 \r\nQ 27.15625 15.875 29.25 21.625 \r\nL 40.328125 51.859375 \r\nL 49.125 51.859375 \r\nL 29.390625 -0.875 \r\nQ 26.21875 -9.421875 24.46875 -12.640625 \r\nQ 22.125 -17 19.09375 -19.015625 \r\nQ 16.0625 -21.046875 11.859375 -21.046875 \r\nQ 9.328125 -21.046875 6.203125 -19.96875 \r\nz\r\n\" id=\"ArialMT-79\"/>\r\n      </defs>\r\n      <g style=\"fill:#262626;\" transform=\"translate(10.255938 174.176797)scale(0.11 -0.11)\">\r\n       <use xlink:href=\"#ArialMT-6d\"/>\r\n       <use x=\"83.300781\" xlink:href=\"#ArialMT-61\"/>\r\n       <use x=\"138.916016\" xlink:href=\"#ArialMT-6c\"/>\r\n       <use x=\"161.132812\" xlink:href=\"#ArialMT-69\"/>\r\n       <use x=\"183.349609\" xlink:href=\"#ArialMT-67\"/>\r\n       <use x=\"238.964844\" xlink:href=\"#ArialMT-6e\"/>\r\n       <use x=\"294.580078\" xlink:href=\"#ArialMT-5f\"/>\r\n       <use x=\"350.195312\" xlink:href=\"#ArialMT-70\"/>\r\n       <use x=\"405.810547\" xlink:href=\"#ArialMT-65\"/>\r\n       <use x=\"461.425781\" xlink:href=\"#ArialMT-6e\"/>\r\n       <use x=\"517.041016\" xlink:href=\"#ArialMT-61\"/>\r\n       <use x=\"572.65625\" xlink:href=\"#ArialMT-6c\"/>\r\n       <use x=\"594.873047\" xlink:href=\"#ArialMT-74\"/>\r\n       <use x=\"622.65625\" xlink:href=\"#ArialMT-79\"/>\r\n      </g>\r\n     </g>\r\n    </g>\r\n    <g id=\"ytick_4\">\r\n     <g id=\"line2d_12\">\r\n      <path clip-path=\"url(#pc59c9b1e5d)\" d=\"M 93.742969 146.08 \r\nL 428.542969 146.08 \r\n\" style=\"fill:none;stroke:#ffffff;stroke-linecap:round;\"/>\r\n     </g>\r\n     <g id=\"text_12\">\r\n      <!-- std_dev_malign -->\r\n      <defs>\r\n       <path d=\"M 21 0 \r\nL 1.265625 51.859375 \r\nL 10.546875 51.859375 \r\nL 21.6875 20.796875 \r\nQ 23.484375 15.765625 25 10.359375 \r\nQ 26.171875 14.453125 28.265625 20.21875 \r\nL 39.796875 51.859375 \r\nL 48.828125 51.859375 \r\nL 29.203125 0 \r\nz\r\n\" id=\"ArialMT-76\"/>\r\n      </defs>\r\n      <g style=\"fill:#262626;\" transform=\"translate(7.2 150.016797)scale(0.11 -0.11)\">\r\n       <use xlink:href=\"#ArialMT-73\"/>\r\n       <use x=\"50\" xlink:href=\"#ArialMT-74\"/>\r\n       <use x=\"77.783203\" xlink:href=\"#ArialMT-64\"/>\r\n       <use x=\"133.398438\" xlink:href=\"#ArialMT-5f\"/>\r\n       <use x=\"189.013672\" xlink:href=\"#ArialMT-64\"/>\r\n       <use x=\"244.628906\" xlink:href=\"#ArialMT-65\"/>\r\n       <use x=\"300.244141\" xlink:href=\"#ArialMT-76\"/>\r\n       <use x=\"350.244141\" xlink:href=\"#ArialMT-5f\"/>\r\n       <use x=\"405.859375\" xlink:href=\"#ArialMT-6d\"/>\r\n       <use x=\"489.160156\" xlink:href=\"#ArialMT-61\"/>\r\n       <use x=\"544.775391\" xlink:href=\"#ArialMT-6c\"/>\r\n       <use x=\"566.992188\" xlink:href=\"#ArialMT-69\"/>\r\n       <use x=\"589.208984\" xlink:href=\"#ArialMT-67\"/>\r\n       <use x=\"644.824219\" xlink:href=\"#ArialMT-6e\"/>\r\n      </g>\r\n     </g>\r\n    </g>\r\n    <g id=\"ytick_5\">\r\n     <g id=\"line2d_13\">\r\n      <path clip-path=\"url(#pc59c9b1e5d)\" d=\"M 93.742969 121.92 \r\nL 428.542969 121.92 \r\n\" style=\"fill:none;stroke:#ffffff;stroke-linecap:round;\"/>\r\n     </g>\r\n     <g id=\"text_13\">\r\n      <!-- err_malign -->\r\n      <g style=\"fill:#262626;\" transform=\"translate(32.281719 125.856797)scale(0.11 -0.11)\">\r\n       <use xlink:href=\"#ArialMT-65\"/>\r\n       <use x=\"55.615234\" xlink:href=\"#ArialMT-72\"/>\r\n       <use x=\"88.916016\" xlink:href=\"#ArialMT-72\"/>\r\n       <use x=\"122.216797\" xlink:href=\"#ArialMT-5f\"/>\r\n       <use x=\"177.832031\" xlink:href=\"#ArialMT-6d\"/>\r\n       <use x=\"261.132812\" xlink:href=\"#ArialMT-61\"/>\r\n       <use x=\"316.748047\" xlink:href=\"#ArialMT-6c\"/>\r\n       <use x=\"338.964844\" xlink:href=\"#ArialMT-69\"/>\r\n       <use x=\"361.181641\" xlink:href=\"#ArialMT-67\"/>\r\n       <use x=\"416.796875\" xlink:href=\"#ArialMT-6e\"/>\r\n      </g>\r\n     </g>\r\n    </g>\r\n    <g id=\"ytick_6\">\r\n     <g id=\"line2d_14\">\r\n      <path clip-path=\"url(#pc59c9b1e5d)\" d=\"M 93.742969 97.76 \r\nL 428.542969 97.76 \r\n\" style=\"fill:none;stroke:#ffffff;stroke-linecap:round;\"/>\r\n     </g>\r\n     <g id=\"text_14\">\r\n      <!-- size_npear -->\r\n      <g style=\"fill:#262626;\" transform=\"translate(30.434063 101.696797)scale(0.11 -0.11)\">\r\n       <use xlink:href=\"#ArialMT-73\"/>\r\n       <use x=\"50\" xlink:href=\"#ArialMT-69\"/>\r\n       <use x=\"72.216797\" xlink:href=\"#ArialMT-7a\"/>\r\n       <use x=\"122.216797\" xlink:href=\"#ArialMT-65\"/>\r\n       <use x=\"177.832031\" xlink:href=\"#ArialMT-5f\"/>\r\n       <use x=\"233.447266\" xlink:href=\"#ArialMT-6e\"/>\r\n       <use x=\"289.0625\" xlink:href=\"#ArialMT-70\"/>\r\n       <use x=\"344.677734\" xlink:href=\"#ArialMT-65\"/>\r\n       <use x=\"400.292969\" xlink:href=\"#ArialMT-61\"/>\r\n       <use x=\"455.908203\" xlink:href=\"#ArialMT-72\"/>\r\n      </g>\r\n     </g>\r\n    </g>\r\n    <g id=\"ytick_7\">\r\n     <g id=\"line2d_15\">\r\n      <path clip-path=\"url(#pc59c9b1e5d)\" d=\"M 93.742969 73.6 \r\nL 428.542969 73.6 \r\n\" style=\"fill:none;stroke:#ffffff;stroke-linecap:round;\"/>\r\n     </g>\r\n     <g id=\"text_15\">\r\n      <!-- damage_ratio -->\r\n      <g style=\"fill:#262626;\" transform=\"translate(16.981406 77.536797)scale(0.11 -0.11)\">\r\n       <use xlink:href=\"#ArialMT-64\"/>\r\n       <use x=\"55.615234\" xlink:href=\"#ArialMT-61\"/>\r\n       <use x=\"111.230469\" xlink:href=\"#ArialMT-6d\"/>\r\n       <use x=\"194.53125\" xlink:href=\"#ArialMT-61\"/>\r\n       <use x=\"250.146484\" xlink:href=\"#ArialMT-67\"/>\r\n       <use x=\"305.761719\" xlink:href=\"#ArialMT-65\"/>\r\n       <use x=\"361.376953\" xlink:href=\"#ArialMT-5f\"/>\r\n       <use x=\"416.992188\" xlink:href=\"#ArialMT-72\"/>\r\n       <use x=\"450.292969\" xlink:href=\"#ArialMT-61\"/>\r\n       <use x=\"505.908203\" xlink:href=\"#ArialMT-74\"/>\r\n       <use x=\"533.691406\" xlink:href=\"#ArialMT-69\"/>\r\n       <use x=\"555.908203\" xlink:href=\"#ArialMT-6f\"/>\r\n      </g>\r\n     </g>\r\n    </g>\r\n    <g id=\"ytick_8\">\r\n     <g id=\"line2d_16\">\r\n      <path clip-path=\"url(#pc59c9b1e5d)\" d=\"M 93.742969 49.44 \r\nL 428.542969 49.44 \r\n\" style=\"fill:none;stroke:#ffffff;stroke-linecap:round;\"/>\r\n     </g>\r\n     <g id=\"text_16\">\r\n      <!-- exposed_area -->\r\n      <defs>\r\n       <path d=\"M 0.734375 0 \r\nL 19.671875 26.953125 \r\nL 2.15625 51.859375 \r\nL 13.140625 51.859375 \r\nL 21.09375 39.703125 \r\nQ 23.34375 36.234375 24.703125 33.890625 \r\nQ 26.859375 37.109375 28.65625 39.59375 \r\nL 37.40625 51.859375 \r\nL 47.90625 51.859375 \r\nL 29.984375 27.4375 \r\nL 49.265625 0 \r\nL 38.484375 0 \r\nL 27.828125 16.109375 \r\nL 25 20.453125 \r\nL 11.375 0 \r\nz\r\n\" id=\"ArialMT-78\"/>\r\n      </defs>\r\n      <g style=\"fill:#262626;\" transform=\"translate(14.527031 53.376797)scale(0.11 -0.11)\">\r\n       <use xlink:href=\"#ArialMT-65\"/>\r\n       <use x=\"55.615234\" xlink:href=\"#ArialMT-78\"/>\r\n       <use x=\"105.615234\" xlink:href=\"#ArialMT-70\"/>\r\n       <use x=\"161.230469\" xlink:href=\"#ArialMT-6f\"/>\r\n       <use x=\"216.845703\" xlink:href=\"#ArialMT-73\"/>\r\n       <use x=\"266.845703\" xlink:href=\"#ArialMT-65\"/>\r\n       <use x=\"322.460938\" xlink:href=\"#ArialMT-64\"/>\r\n       <use x=\"378.076172\" xlink:href=\"#ArialMT-5f\"/>\r\n       <use x=\"433.691406\" xlink:href=\"#ArialMT-61\"/>\r\n       <use x=\"489.306641\" xlink:href=\"#ArialMT-72\"/>\r\n       <use x=\"522.607422\" xlink:href=\"#ArialMT-65\"/>\r\n       <use x=\"578.222656\" xlink:href=\"#ArialMT-61\"/>\r\n      </g>\r\n     </g>\r\n    </g>\r\n    <g id=\"ytick_9\">\r\n     <g id=\"line2d_17\">\r\n      <path clip-path=\"url(#pc59c9b1e5d)\" d=\"M 93.742969 25.28 \r\nL 428.542969 25.28 \r\n\" style=\"fill:none;stroke:#ffffff;stroke-linecap:round;\"/>\r\n     </g>\r\n     <g id=\"text_17\">\r\n      <!-- mass_npea -->\r\n      <g style=\"fill:#262626;\" transform=\"translate(27.378125 29.216797)scale(0.11 -0.11)\">\r\n       <use xlink:href=\"#ArialMT-6d\"/>\r\n       <use x=\"83.300781\" xlink:href=\"#ArialMT-61\"/>\r\n       <use x=\"138.916016\" xlink:href=\"#ArialMT-73\"/>\r\n       <use x=\"188.916016\" xlink:href=\"#ArialMT-73\"/>\r\n       <use x=\"238.916016\" xlink:href=\"#ArialMT-5f\"/>\r\n       <use x=\"294.53125\" xlink:href=\"#ArialMT-6e\"/>\r\n       <use x=\"350.146484\" xlink:href=\"#ArialMT-70\"/>\r\n       <use x=\"405.761719\" xlink:href=\"#ArialMT-65\"/>\r\n       <use x=\"461.376953\" xlink:href=\"#ArialMT-61\"/>\r\n      </g>\r\n     </g>\r\n    </g>\r\n   </g>\r\n   <g id=\"patch_3\">\r\n    <path clip-path=\"url(#pc59c9b1e5d)\" d=\"M 93.742969 224.6 \r\nL 412.600112 224.6 \r\nL 412.600112 212.52 \r\nL 93.742969 212.52 \r\nz\r\n\" style=\"fill:#4c72b0;stroke:#ffffff;stroke-linejoin:miter;\"/>\r\n   </g>\r\n   <g id=\"patch_4\">\r\n    <path clip-path=\"url(#pc59c9b1e5d)\" d=\"M 93.742969 200.44 \r\nL 370.495258 200.44 \r\nL 370.495258 188.36 \r\nL 93.742969 188.36 \r\nz\r\n\" style=\"fill:#4c72b0;stroke:#ffffff;stroke-linejoin:miter;\"/>\r\n   </g>\r\n   <g id=\"patch_5\">\r\n    <path clip-path=\"url(#pc59c9b1e5d)\" d=\"M 93.742969 176.28 \r\nL 317.811477 176.28 \r\nL 317.811477 164.2 \r\nL 93.742969 164.2 \r\nz\r\n\" style=\"fill:#4c72b0;stroke:#ffffff;stroke-linejoin:miter;\"/>\r\n   </g>\r\n   <g id=\"patch_6\">\r\n    <path clip-path=\"url(#pc59c9b1e5d)\" d=\"M 93.742969 152.12 \r\nL 258.887459 152.12 \r\nL 258.887459 140.04 \r\nL 93.742969 140.04 \r\nz\r\n\" style=\"fill:#4c72b0;stroke:#ffffff;stroke-linejoin:miter;\"/>\r\n   </g>\r\n   <g id=\"patch_7\">\r\n    <path clip-path=\"url(#pc59c9b1e5d)\" d=\"M 93.742969 127.96 \r\nL 244.787313 127.96 \r\nL 244.787313 115.88 \r\nL 93.742969 115.88 \r\nz\r\n\" style=\"fill:#4c72b0;stroke:#ffffff;stroke-linejoin:miter;\"/>\r\n   </g>\r\n   <g id=\"patch_8\">\r\n    <path clip-path=\"url(#pc59c9b1e5d)\" d=\"M 93.742969 103.8 \r\nL 243.150706 103.8 \r\nL 243.150706 91.72 \r\nL 93.742969 91.72 \r\nz\r\n\" style=\"fill:#4c72b0;stroke:#ffffff;stroke-linejoin:miter;\"/>\r\n   </g>\r\n   <g id=\"patch_9\">\r\n    <path clip-path=\"url(#pc59c9b1e5d)\" d=\"M 93.742969 79.64 \r\nL 235.751808 79.64 \r\nL 235.751808 67.56 \r\nL 93.742969 67.56 \r\nz\r\n\" style=\"fill:#4c72b0;stroke:#ffffff;stroke-linejoin:miter;\"/>\r\n   </g>\r\n   <g id=\"patch_10\">\r\n    <path clip-path=\"url(#pc59c9b1e5d)\" d=\"M 93.742969 55.48 \r\nL 226.073664 55.48 \r\nL 226.073664 43.4 \r\nL 93.742969 43.4 \r\nz\r\n\" style=\"fill:#4c72b0;stroke:#ffffff;stroke-linejoin:miter;\"/>\r\n   </g>\r\n   <g id=\"patch_11\">\r\n    <path clip-path=\"url(#pc59c9b1e5d)\" d=\"M 93.742969 31.32 \r\nL 220.784834 31.32 \r\nL 220.784834 19.24 \r\nL 93.742969 19.24 \r\nz\r\n\" style=\"fill:#4c72b0;stroke:#ffffff;stroke-linejoin:miter;\"/>\r\n   </g>\r\n   <g id=\"patch_12\">\r\n    <path d=\"M 93.742969 230.64 \r\nL 93.742969 13.2 \r\n\" style=\"fill:none;stroke:#ffffff;stroke-linecap:square;stroke-linejoin:miter;stroke-width:1.25;\"/>\r\n   </g>\r\n   <g id=\"patch_13\">\r\n    <path d=\"M 428.542969 230.64 \r\nL 428.542969 13.2 \r\n\" style=\"fill:none;stroke:#ffffff;stroke-linecap:square;stroke-linejoin:miter;stroke-width:1.25;\"/>\r\n   </g>\r\n   <g id=\"patch_14\">\r\n    <path d=\"M 93.742969 230.64 \r\nL 428.542969 230.64 \r\n\" style=\"fill:none;stroke:#ffffff;stroke-linecap:square;stroke-linejoin:miter;stroke-width:1.25;\"/>\r\n   </g>\r\n   <g id=\"patch_15\">\r\n    <path d=\"M 93.742969 13.2 \r\nL 428.542969 13.2 \r\n\" style=\"fill:none;stroke:#ffffff;stroke-linecap:square;stroke-linejoin:miter;stroke-width:1.25;\"/>\r\n   </g>\r\n  </g>\r\n </g>\r\n <defs>\r\n  <clipPath id=\"pc59c9b1e5d\">\r\n   <rect height=\"217.44\" width=\"334.8\" x=\"93.742969\" y=\"13.2\"/>\r\n  </clipPath>\r\n </defs>\r\n</svg>\r\n",
      "image/png": "[encoded data removed]"
     },
     "metadata": {
      "needs_background": "light"
     }
    }
   ],
   "source": [
    "from sklearn.ensemble import ExtraTreesRegressor\n",
    "X = df.drop('tumor_size',axis=1)\n",
    "y = df['tumor_size']\n",
    "model = ExtraTreesRegressor()\n",
    "model.fit(X,y)\n",
    "feat_import = pd.Series(model.feature_importances_,index = X.columns)\n",
    "feat_import.nlargest(9).plot(kind='barh')\n",
    "plt.show()"
   ]
  },
  {
   "cell_type": "markdown",
   "metadata": {},
   "source": [
    "Therefore malign_ratio,damage_size,malign_penality are the most important features"
   ]
  },
  {
   "cell_type": "markdown",
   "metadata": {},
   "source": [
    "**Building a Model**"
   ]
  },
  {
   "cell_type": "code",
   "execution_count": 10,
   "metadata": {},
   "outputs": [],
   "source": [
    "X = df.drop('tumor_size',axis=1).values\n",
    "y = df['tumor_size'].values"
   ]
  },
  {
   "cell_type": "code",
   "execution_count": 11,
   "metadata": {},
   "outputs": [],
   "source": [
    "from sklearn.model_selection import train_test_split\n",
    "X_train,X_test,y_train,y_test = train_test_split(X,y,test_size = 0.2,random_state=42)\n",
    "RMSE_score = []"
   ]
  },
  {
   "cell_type": "code",
   "execution_count": 12,
   "metadata": {},
   "outputs": [],
   "source": [
    "from sklearn.preprocessing import StandardScaler\n",
    "sc = StandardScaler()\n",
    "X_train = sc.fit_transform(X_train)\n",
    "X_test = sc.transform(X_test)"
   ]
  },
  {
   "cell_type": "code",
   "execution_count": 13,
   "metadata": {},
   "outputs": [],
   "source": [
    "from sklearn.model_selection import cross_val_score\n",
    "from sklearn.linear_model import LinearRegression\n",
    "from sklearn.tree import DecisionTreeRegressor\n",
    "from sklearn.ensemble import RandomForestRegressor\n",
    "from sklearn.neighbors import KNeighborsRegressor\n",
    "from sklearn.svm import SVR\n",
    "from catboost import CatBoostRegressor"
   ]
  },
  {
   "cell_type": "code",
   "execution_count": 14,
   "metadata": {},
   "outputs": [],
   "source": [
    "lr = LinearRegression()\n",
    "lr.fit(X_train,y_train)\n",
    "s1 = np.mean(cross_val_score(lr,X_train,y_train,scoring='neg_mean_squared_error',cv=10))\n",
    "s1 = np.sqrt(-s1)\n",
    "RMSE_score.append(s1)"
   ]
  },
  {
   "cell_type": "code",
   "execution_count": 15,
   "metadata": {},
   "outputs": [],
   "source": [
    "dt = DecisionTreeRegressor()\n",
    "dt.fit(X_train,y_train)\n",
    "s2 = np.mean(cross_val_score(dt,X_train,y_train,scoring='neg_mean_squared_error',cv=10))\n",
    "s2 = np.sqrt(-s2)\n",
    "RMSE_score.append(s2)"
   ]
  },
  {
   "cell_type": "code",
   "execution_count": 16,
   "metadata": {},
   "outputs": [],
   "source": [
    "rf = RandomForestRegressor()\n",
    "rf.fit(X_train,y_train)\n",
    "s3 = np.mean(cross_val_score(rf,X_train,y_train,scoring='neg_mean_squared_error',cv=10))\n",
    "s3 = np.sqrt(-s3)\n",
    "RMSE_score.append(s3)"
   ]
  },
  {
   "cell_type": "code",
   "execution_count": 17,
   "metadata": {},
   "outputs": [],
   "source": [
    "knn = KNeighborsRegressor()\n",
    "knn.fit(X_train,y_train)\n",
    "s4 = np.mean(cross_val_score(knn,X_train,y_train,scoring='neg_mean_squared_error',cv=10))\n",
    "s4 = np.sqrt(-s4)\n",
    "RMSE_score.append(s4)"
   ]
  },
  {
   "cell_type": "code",
   "execution_count": 18,
   "metadata": {},
   "outputs": [],
   "source": [
    "svr = SVR()\n",
    "svr.fit(X_train,y_train)\n",
    "s5 = np.mean(cross_val_score(svr,X_train,y_train,scoring='neg_mean_squared_error',cv=10))\n",
    "s5 = np.sqrt(-s5)\n",
    "RMSE_score.append(s5)"
   ]
  },
  {
   "cell_type": "code",
   "execution_count": 19,
   "metadata": {
    "tags": []
   },
   "outputs": [
    {
     "output_type": "stream",
     "name": "stdout",
     "text": "0:\tlearn: 6.6061827\ttotal: 5.22ms\tremaining: 99.2ms\n1:\tlearn: 6.5358665\ttotal: 10.3ms\tremaining: 92.5ms\n2:\tlearn: 6.4695384\ttotal: 15ms\tremaining: 84.8ms\n3:\tlearn: 6.4017376\ttotal: 19.9ms\tremaining: 79.7ms\n4:\tlearn: 6.3404739\ttotal: 25ms\tremaining: 74.9ms\n5:\tlearn: 6.2820971\ttotal: 31.2ms\tremaining: 72.9ms\n6:\tlearn: 6.2228004\ttotal: 36.4ms\tremaining: 67.6ms\n7:\tlearn: 6.1703081\ttotal: 41.3ms\tremaining: 61.9ms\n8:\tlearn: 6.1200571\ttotal: 46ms\tremaining: 56.2ms\n9:\tlearn: 6.0668009\ttotal: 50.8ms\tremaining: 50.8ms\n10:\tlearn: 6.0222660\ttotal: 55.7ms\tremaining: 45.6ms\n11:\tlearn: 5.9749319\ttotal: 60.7ms\tremaining: 40.5ms\n12:\tlearn: 5.9310496\ttotal: 65.7ms\tremaining: 35.4ms\n13:\tlearn: 5.8868718\ttotal: 70.4ms\tremaining: 30.2ms\n14:\tlearn: 5.8497376\ttotal: 75.1ms\tremaining: 25ms\n15:\tlearn: 5.8150926\ttotal: 80.1ms\tremaining: 20ms\n16:\tlearn: 5.7813627\ttotal: 85.1ms\tremaining: 15ms\n17:\tlearn: 5.7422244\ttotal: 90ms\tremaining: 10ms\n18:\tlearn: 5.7100964\ttotal: 96.2ms\tremaining: 5.07ms\n19:\tlearn: 5.6802044\ttotal: 101ms\tremaining: 0us\n0:\tlearn: 6.5754161\ttotal: 5.67ms\tremaining: 108ms\n1:\tlearn: 6.5046908\ttotal: 11ms\tremaining: 98.7ms\n2:\tlearn: 6.4390710\ttotal: 15.9ms\tremaining: 90.1ms\n3:\tlearn: 6.3796226\ttotal: 21.1ms\tremaining: 84.4ms\n4:\tlearn: 6.3225824\ttotal: 26.2ms\tremaining: 78.7ms\n5:\tlearn: 6.2653407\ttotal: 31.4ms\tremaining: 73.4ms\n6:\tlearn: 6.2056800\ttotal: 36.5ms\tremaining: 67.7ms\n7:\tlearn: 6.1533263\ttotal: 41.8ms\tremaining: 62.6ms\n8:\tlearn: 6.1018314\ttotal: 47.3ms\tremaining: 57.8ms\n9:\tlearn: 6.0539276\ttotal: 52.5ms\tremaining: 52.5ms\n10:\tlearn: 6.0100609\ttotal: 57.9ms\tremaining: 47.4ms\n11:\tlearn: 5.9648972\ttotal: 62.9ms\tremaining: 42ms\n12:\tlearn: 5.9226599\ttotal: 68.4ms\tremaining: 36.8ms\n13:\tlearn: 5.8859438\ttotal: 73.6ms\tremaining: 31.5ms\n14:\tlearn: 5.8482133\ttotal: 78.7ms\tremaining: 26.2ms\n15:\tlearn: 5.8117665\ttotal: 83.6ms\tremaining: 20.9ms\n16:\tlearn: 5.7773928\ttotal: 89ms\tremaining: 15.7ms\n17:\tlearn: 5.7409050\ttotal: 94.2ms\tremaining: 10.5ms\n18:\tlearn: 5.7081827\ttotal: 99ms\tremaining: 5.21ms\n19:\tlearn: 5.6768594\ttotal: 104ms\tremaining: 0us\n0:\tlearn: 6.6162978\ttotal: 6.63ms\tremaining: 126ms\n1:\tlearn: 6.5431873\ttotal: 12.3ms\tremaining: 111ms\n2:\tlearn: 6.4780860\ttotal: 17.2ms\tremaining: 97.6ms\n3:\tlearn: 6.4137938\ttotal: 22.4ms\tremaining: 89.5ms\n4:\tlearn: 6.3521558\ttotal: 27.4ms\tremaining: 82.2ms\n5:\tlearn: 6.2944456\ttotal: 32.2ms\tremaining: 75.1ms\n6:\tlearn: 6.2359722\ttotal: 38.4ms\tremaining: 71.3ms\n7:\tlearn: 6.1836705\ttotal: 43.4ms\tremaining: 65.1ms\n8:\tlearn: 6.1298447\ttotal: 48.3ms\tremaining: 59.1ms\n9:\tlearn: 6.0808243\ttotal: 53.4ms\tremaining: 53.4ms\n10:\tlearn: 6.0347633\ttotal: 58.9ms\tremaining: 48.2ms\n11:\tlearn: 5.9888433\ttotal: 64ms\tremaining: 42.7ms\n12:\tlearn: 5.9471617\ttotal: 69.5ms\tremaining: 37.4ms\n13:\tlearn: 5.9100790\ttotal: 74.6ms\tremaining: 32ms\n14:\tlearn: 5.8766702\ttotal: 79.6ms\tremaining: 26.5ms\n15:\tlearn: 5.8396872\ttotal: 84.7ms\tremaining: 21.2ms\n16:\tlearn: 5.8034236\ttotal: 89.5ms\tremaining: 15.8ms\n17:\tlearn: 5.7697406\ttotal: 94.6ms\tremaining: 10.5ms\n18:\tlearn: 5.7386313\ttotal: 101ms\tremaining: 5.31ms\n19:\tlearn: 5.7080541\ttotal: 106ms\tremaining: 0us\n0:\tlearn: 6.5989211\ttotal: 5.75ms\tremaining: 109ms\n1:\tlearn: 6.5271559\ttotal: 10.8ms\tremaining: 97ms\n2:\tlearn: 6.4620306\ttotal: 16.9ms\tremaining: 96ms\n3:\tlearn: 6.3959874\ttotal: 21.9ms\tremaining: 87.4ms\n4:\tlearn: 6.3362701\ttotal: 26.7ms\tremaining: 80.2ms\n5:\tlearn: 6.2774241\ttotal: 31.7ms\tremaining: 73.9ms\n6:\tlearn: 6.2173078\ttotal: 36.9ms\tremaining: 68.5ms\n7:\tlearn: 6.1677170\ttotal: 41.8ms\tremaining: 62.7ms\n8:\tlearn: 6.1134394\ttotal: 46.8ms\tremaining: 57.2ms\n9:\tlearn: 6.0648282\ttotal: 52.1ms\tremaining: 52.1ms\n10:\tlearn: 6.0206526\ttotal: 56.9ms\tremaining: 46.6ms\n11:\tlearn: 5.9734699\ttotal: 61.8ms\tremaining: 41.2ms\n12:\tlearn: 5.9308979\ttotal: 67.8ms\tremaining: 36.5ms\n13:\tlearn: 5.8923524\ttotal: 72.7ms\tremaining: 31.2ms\n14:\tlearn: 5.8496510\ttotal: 77.5ms\tremaining: 25.8ms\n15:\tlearn: 5.8137891\ttotal: 82.4ms\tremaining: 20.6ms\n16:\tlearn: 5.7774212\ttotal: 87.2ms\tremaining: 15.4ms\n17:\tlearn: 5.7437762\ttotal: 92ms\tremaining: 10.2ms\n18:\tlearn: 5.7124015\ttotal: 97.3ms\tremaining: 5.12ms\n19:\tlearn: 5.6803694\ttotal: 102ms\tremaining: 0us\n0:\tlearn: 6.5703193\ttotal: 7.82ms\tremaining: 149ms\n1:\tlearn: 6.4996887\ttotal: 12.8ms\tremaining: 115ms\n2:\tlearn: 6.4271687\ttotal: 18ms\tremaining: 102ms\n3:\tlearn: 6.3677564\ttotal: 23.5ms\tremaining: 94ms\n4:\tlearn: 6.3068769\ttotal: 28.5ms\tremaining: 85.4ms\n5:\tlearn: 6.2503603\ttotal: 33.4ms\tremaining: 78ms\n6:\tlearn: 6.1936832\ttotal: 38.8ms\tremaining: 72.1ms\n7:\tlearn: 6.1420038\ttotal: 44.2ms\tremaining: 66.4ms\n8:\tlearn: 6.0866476\ttotal: 49.2ms\tremaining: 60.1ms\n9:\tlearn: 6.0355348\ttotal: 55.4ms\tremaining: 55.4ms\n10:\tlearn: 5.9929044\ttotal: 60.4ms\tremaining: 49.5ms\n11:\tlearn: 5.9460554\ttotal: 65.7ms\tremaining: 43.8ms\n12:\tlearn: 5.9017988\ttotal: 71.5ms\tremaining: 38.5ms\n13:\tlearn: 5.8631235\ttotal: 76.6ms\tremaining: 32.8ms\n14:\tlearn: 5.8265147\ttotal: 81.4ms\tremaining: 27.1ms\n15:\tlearn: 5.7908654\ttotal: 87ms\tremaining: 21.8ms\n16:\tlearn: 5.7568435\ttotal: 92.6ms\tremaining: 16.3ms\n17:\tlearn: 5.7235409\ttotal: 97.5ms\tremaining: 10.8ms\n18:\tlearn: 5.6920473\ttotal: 105ms\tremaining: 5.52ms\n19:\tlearn: 5.6643257\ttotal: 110ms\tremaining: 0us\n0:\tlearn: 6.5752036\ttotal: 5.6ms\tremaining: 106ms\n1:\tlearn: 6.5038229\ttotal: 11.7ms\tremaining: 105ms\n2:\tlearn: 6.4329750\ttotal: 16.5ms\tremaining: 93.3ms\n3:\tlearn: 6.3682001\ttotal: 21.3ms\tremaining: 85.3ms\n4:\tlearn: 6.3079812\ttotal: 27.4ms\tremaining: 82.3ms\n5:\tlearn: 6.2511725\ttotal: 32.7ms\tremaining: 76.4ms\n6:\tlearn: 6.1928813\ttotal: 37.7ms\tremaining: 70.1ms\n7:\tlearn: 6.1437445\ttotal: 42.9ms\tremaining: 64.3ms\n8:\tlearn: 6.0989524\ttotal: 47.8ms\tremaining: 58.5ms\n9:\tlearn: 6.0616935\ttotal: 52.9ms\tremaining: 52.9ms\n10:\tlearn: 6.0148544\ttotal: 58.1ms\tremaining: 47.5ms\n11:\tlearn: 5.9678647\ttotal: 63.1ms\tremaining: 42.1ms\n12:\tlearn: 5.9319359\ttotal: 68.1ms\tremaining: 36.7ms\n13:\tlearn: 5.8941787\ttotal: 74.1ms\tremaining: 31.8ms\n14:\tlearn: 5.8555408\ttotal: 79.1ms\tremaining: 26.4ms\n15:\tlearn: 5.8174719\ttotal: 84.5ms\tremaining: 21.1ms\n16:\tlearn: 5.7810931\ttotal: 89.7ms\tremaining: 15.8ms\n17:\tlearn: 5.7442478\ttotal: 94.8ms\tremaining: 10.5ms\n18:\tlearn: 5.7112031\ttotal: 100ms\tremaining: 5.26ms\n19:\tlearn: 5.6803222\ttotal: 105ms\tremaining: 0us\n0:\tlearn: 6.5487104\ttotal: 7.74ms\tremaining: 147ms\n1:\tlearn: 6.4811493\ttotal: 12.9ms\tremaining: 116ms\n2:\tlearn: 6.4176817\ttotal: 17.7ms\tremaining: 100ms\n3:\tlearn: 6.3555606\ttotal: 22.5ms\tremaining: 89.8ms\n4:\tlearn: 6.2930521\ttotal: 27.8ms\tremaining: 83.3ms\n5:\tlearn: 6.2354720\ttotal: 32.7ms\tremaining: 76.3ms\n6:\tlearn: 6.1766063\ttotal: 37.5ms\tremaining: 69.7ms\n7:\tlearn: 6.1170538\ttotal: 42.3ms\tremaining: 63.4ms\n8:\tlearn: 6.0678319\ttotal: 47.2ms\tremaining: 57.7ms\n9:\tlearn: 6.0200489\ttotal: 53.3ms\tremaining: 53.3ms\n10:\tlearn: 5.9797780\ttotal: 58.3ms\tremaining: 47.7ms\n11:\tlearn: 5.9325882\ttotal: 63.2ms\tremaining: 42.1ms\n12:\tlearn: 5.8880223\ttotal: 68.7ms\tremaining: 37ms\n13:\tlearn: 5.8487588\ttotal: 73.9ms\tremaining: 31.7ms\n14:\tlearn: 5.8079439\ttotal: 78.9ms\tremaining: 26.3ms\n15:\tlearn: 5.7725100\ttotal: 83.9ms\tremaining: 21ms\n16:\tlearn: 5.7357230\ttotal: 88.9ms\tremaining: 15.7ms\n17:\tlearn: 5.7007284\ttotal: 93.7ms\tremaining: 10.4ms\n18:\tlearn: 5.6720810\ttotal: 100ms\tremaining: 5.27ms\n19:\tlearn: 5.6461697\ttotal: 105ms\tremaining: 0us\n0:\tlearn: 6.5687668\ttotal: 5.54ms\tremaining: 105ms\n1:\tlearn: 6.4995682\ttotal: 11.1ms\tremaining: 100ms\n2:\tlearn: 6.4290683\ttotal: 16.5ms\tremaining: 93.3ms\n3:\tlearn: 6.3645933\ttotal: 21.3ms\tremaining: 85.2ms\n4:\tlearn: 6.3028804\ttotal: 26.4ms\tremaining: 79.2ms\n5:\tlearn: 6.2458034\ttotal: 32.3ms\tremaining: 75.4ms\n6:\tlearn: 6.1875179\ttotal: 37.2ms\tremaining: 69.1ms\n7:\tlearn: 6.1356512\ttotal: 42.1ms\tremaining: 63.1ms\n8:\tlearn: 6.0871374\ttotal: 47.1ms\tremaining: 57.5ms\n9:\tlearn: 6.0400460\ttotal: 52.1ms\tremaining: 52.1ms\n10:\tlearn: 5.9977323\ttotal: 57.1ms\tremaining: 46.7ms\n11:\tlearn: 5.9516186\ttotal: 62.7ms\tremaining: 41.8ms\n12:\tlearn: 5.9115341\ttotal: 69.2ms\tremaining: 37.3ms\n13:\tlearn: 5.8706973\ttotal: 74.4ms\tremaining: 31.9ms\n14:\tlearn: 5.8313478\ttotal: 82ms\tremaining: 27.3ms\n15:\tlearn: 5.7980850\ttotal: 87.1ms\tremaining: 21.8ms\n16:\tlearn: 5.7607853\ttotal: 92.1ms\tremaining: 16.3ms\n17:\tlearn: 5.7247351\ttotal: 96.9ms\tremaining: 10.8ms\n18:\tlearn: 5.6950158\ttotal: 102ms\tremaining: 5.37ms\n19:\tlearn: 5.6676778\ttotal: 107ms\tremaining: 0us\n0:\tlearn: 6.6016109\ttotal: 5.21ms\tremaining: 99ms\n1:\tlearn: 6.5309314\ttotal: 11.7ms\tremaining: 105ms\n2:\tlearn: 6.4539631\ttotal: 16.5ms\tremaining: 93.6ms\n3:\tlearn: 6.3906385\ttotal: 21.1ms\tremaining: 84.2ms\n4:\tlearn: 6.3274016\ttotal: 26ms\tremaining: 77.9ms\n5:\tlearn: 6.2690713\ttotal: 30.8ms\tremaining: 71.9ms\n6:\tlearn: 6.2088119\ttotal: 35.6ms\tremaining: 66.2ms\n7:\tlearn: 6.1520215\ttotal: 40.5ms\tremaining: 60.7ms\n8:\tlearn: 6.0996291\ttotal: 45.6ms\tremaining: 55.7ms\n9:\tlearn: 6.0521263\ttotal: 50.6ms\tremaining: 50.6ms\n10:\tlearn: 6.0072368\ttotal: 55.5ms\tremaining: 45.4ms\n11:\tlearn: 5.9627877\ttotal: 60.6ms\tremaining: 40.4ms\n12:\tlearn: 5.9184925\ttotal: 65.5ms\tremaining: 35.3ms\n13:\tlearn: 5.8826225\ttotal: 70.2ms\tremaining: 30.1ms\n14:\tlearn: 5.8412746\ttotal: 75.3ms\tremaining: 25.1ms\n15:\tlearn: 5.8068671\ttotal: 80.5ms\tremaining: 20.1ms\n16:\tlearn: 5.7694417\ttotal: 85.7ms\tremaining: 15.1ms\n17:\tlearn: 5.7325845\ttotal: 90.8ms\tremaining: 10.1ms\n18:\tlearn: 5.7001015\ttotal: 95.5ms\tremaining: 5.03ms\n19:\tlearn: 5.6718644\ttotal: 100ms\tremaining: 0us\n0:\tlearn: 6.5641424\ttotal: 7.23ms\tremaining: 137ms\n1:\tlearn: 6.4948631\ttotal: 12.5ms\tremaining: 113ms\n2:\tlearn: 6.4236563\ttotal: 17.6ms\tremaining: 100ms\n3:\tlearn: 6.3617820\ttotal: 22.7ms\tremaining: 90.8ms\n4:\tlearn: 6.3007894\ttotal: 27.7ms\tremaining: 83.1ms\n5:\tlearn: 6.2443302\ttotal: 33ms\tremaining: 77ms\n6:\tlearn: 6.1855797\ttotal: 38.1ms\tremaining: 70.8ms\n7:\tlearn: 6.1297210\ttotal: 43.4ms\tremaining: 65ms\n8:\tlearn: 6.0809610\ttotal: 48.2ms\tremaining: 58.9ms\n9:\tlearn: 6.0326532\ttotal: 53.7ms\tremaining: 53.7ms\n10:\tlearn: 5.9890345\ttotal: 58.9ms\tremaining: 48.2ms\n11:\tlearn: 5.9442604\ttotal: 63.8ms\tremaining: 42.5ms\n12:\tlearn: 5.9011327\ttotal: 68.7ms\tremaining: 37ms\n13:\tlearn: 5.8659102\ttotal: 73.8ms\tremaining: 31.6ms\n14:\tlearn: 5.8259651\ttotal: 78.9ms\tremaining: 26.3ms\n15:\tlearn: 5.7894120\ttotal: 84.3ms\tremaining: 21.1ms\n16:\tlearn: 5.7533210\ttotal: 89.3ms\tremaining: 15.8ms\n17:\tlearn: 5.7185514\ttotal: 94.4ms\tremaining: 10.5ms\n18:\tlearn: 5.6886328\ttotal: 100ms\tremaining: 5.26ms\n19:\tlearn: 5.6600491\ttotal: 105ms\tremaining: 0us\n"
    }
   ],
   "source": [
    "cat = CatBoostRegressor(iterations=20,loss_function='MAE',eval_metric='RMSE',task_type='CPU')\n",
    "cat.fit(X_train,y_train,verbose=False)\n",
    "s6 = np.mean(cross_val_score(cat,X_train,y_train,scoring='neg_mean_squared_error',cv=10))\n",
    "s6 = np.sqrt(-s6)\n",
    "RMSE_score.append(s6)"
   ]
  },
  {
   "cell_type": "code",
   "execution_count": 20,
   "metadata": {
    "tags": []
   },
   "outputs": [
    {
     "output_type": "stream",
     "name": "stdout",
     "text": "The RMSE Score for LinearRegression is 5.137451549847798\nThe RMSE Score for DecisionTreeRegressor is 5.772557447243559\nThe RMSE Score for RandomForestRegressor is 4.107588344099251\nThe RMSE Score for KNeighborsRegressor is 4.467067116639382\nThe RMSE Score for SVR is 4.979849992880074\nThe RMSE Score for CatBoostRegressor is 5.700927227115675\n"
    }
   ],
   "source": [
    "models = ['LinearRegression','DecisionTreeRegressor','RandomForestRegressor','KNeighborsRegressor','SVR','CatBoostRegressor']\n",
    "for i in range(len(models)):\n",
    "    print('The RMSE Score for',models[i],'is',RMSE_score[i])"
   ]
  },
  {
   "cell_type": "markdown",
   "metadata": {},
   "source": [
    "**Therefore we will Choose Random Forest Regressor**"
   ]
  },
  {
   "cell_type": "code",
   "execution_count": 31,
   "metadata": {},
   "outputs": [
    {
     "output_type": "execute_result",
     "data": {
      "text/plain": "3.9612102683279233"
     },
     "metadata": {},
     "execution_count": 31
    }
   ],
   "source": [
    "from sklearn.metrics import mean_squared_error\n",
    "rf = RandomForestRegressor()\n",
    "rf.fit(X_train,y_train)\n",
    "pred = rf.predict(X_test)\n",
    "np.sqrt(mean_squared_error(y_test,pred))"
   ]
  },
  {
   "cell_type": "markdown",
   "metadata": {},
   "source": [
    "So we can se using Random Forest Regressor we get RMSE=3.96 which is approximately equal to 4."
   ]
  },
  {
   "cell_type": "markdown",
   "metadata": {},
   "source": [
    "Lets try hyperparameter tuning to reduce the RMSE.\n",
    "\n",
    "we will use RandomizedSearchCV for tuning which is quite fast as compared to GridSearchCV."
   ]
  },
  {
   "cell_type": "code",
   "execution_count": 26,
   "metadata": {},
   "outputs": [],
   "source": [
    "from sklearn.model_selection import RandomizedSearchCV"
   ]
  },
  {
   "cell_type": "code",
   "execution_count": 27,
   "metadata": {},
   "outputs": [],
   "source": [
    "# Number of trees in random forest\n",
    "n_estimators = [int(x) for x in np.linspace(start = 100, stop = 1200, num = 12)]\n",
    "# Number of features to consider at every split\n",
    "max_features = ['auto', 'sqrt']\n",
    "# Maximum number of levels in tree\n",
    "max_depth = [int(x) for x in np.linspace(5, 30, num = 6)]\n",
    "# Minimum number of samples required to split a node\n",
    "min_samples_split = [2, 5, 10, 15, 100]\n",
    "# Minimum number of samples required at each leaf node\n",
    "min_samples_leaf = [1, 2, 5, 10]"
   ]
  },
  {
   "cell_type": "code",
   "execution_count": 28,
   "metadata": {},
   "outputs": [],
   "source": [
    "random_grid = {'n_estimators': n_estimators,\n",
    "               'max_features': max_features,\n",
    "               'max_depth': max_depth,\n",
    "               'min_samples_split': min_samples_split,\n",
    "               'min_samples_leaf': min_samples_leaf}"
   ]
  },
  {
   "cell_type": "code",
   "execution_count": 36,
   "metadata": {
    "tags": []
   },
   "outputs": [
    {
     "output_type": "execute_result",
     "data": {
      "text/plain": "RandomizedSearchCV(cv=5, estimator=RandomForestRegressor(), n_iter=20, n_jobs=1,\n                   param_distributions={'max_depth': [5, 10, 15, 20, 25, 30],\n                                        'max_features': ['auto', 'sqrt'],\n                                        'min_samples_leaf': [1, 2, 5, 10],\n                                        'min_samples_split': [2, 5, 10, 15,\n                                                              100],\n                                        'n_estimators': [100, 200, 300, 400,\n                                                         500, 600, 700, 800,\n                                                         900, 1000, 1100,\n                                                         1200]},\n                   random_state=42, scoring='neg_mean_squared_error')"
     },
     "metadata": {},
     "execution_count": 36
    }
   ],
   "source": [
    "rf = RandomForestRegressor()\n",
    "rf_random = RandomizedSearchCV(estimator=rf,param_distributions=random_grid,\n",
    "                               scoring='neg_mean_squared_error',\n",
    "                              n_iter=20,cv=5,verbose=0,random_state=42,n_jobs=1)\n",
    "\n",
    "rf_random.fit(X_train,y_train)"
   ]
  },
  {
   "cell_type": "code",
   "execution_count": 37,
   "metadata": {},
   "outputs": [
    {
     "output_type": "execute_result",
     "data": {
      "text/plain": "{'n_estimators': 1000,\n 'min_samples_split': 2,\n 'min_samples_leaf': 1,\n 'max_features': 'sqrt',\n 'max_depth': 25}"
     },
     "metadata": {},
     "execution_count": 37
    }
   ],
   "source": [
    "rf_random.best_params_"
   ]
  },
  {
   "cell_type": "code",
   "execution_count": 38,
   "metadata": {},
   "outputs": [
    {
     "output_type": "execute_result",
     "data": {
      "text/plain": "4.105006394349112"
     },
     "metadata": {},
     "execution_count": 38
    }
   ],
   "source": [
    "rmse = np.sqrt(-rf_random.best_score_)\n",
    "rmse"
   ]
  },
  {
   "cell_type": "markdown",
   "metadata": {},
   "source": [
    "Therefore still we are getting RMSE approx 4.\n",
    "SO i will choose my model without tuning as RMSE in that case is 3.96"
   ]
  },
  {
   "cell_type": "markdown",
   "metadata": {},
   "source": [
    "**Building An ANN**"
   ]
  },
  {
   "cell_type": "code",
   "execution_count": 52,
   "metadata": {},
   "outputs": [],
   "source": [
    "from tensorflow.keras.models import Sequential\n",
    "from tensorflow.keras.layers import Dense,Dropout\n",
    "from tensorflow.keras.callbacks import ModelCheckpoint"
   ]
  },
  {
   "cell_type": "code",
   "execution_count": 58,
   "metadata": {},
   "outputs": [],
   "source": [
    "ann = Sequential()\n",
    "ann.add(Dense(units=32,kernel_initializer='uniform',activation='relu',input_dim=9))\n",
    "ann.add(Dense(64,activation='relu'))\n",
    "ann.add(Dense(128,activation='relu'))\n",
    "ann.add(Dense(256,activation='relu'))\n",
    "ann.add(Dropout(0.5))\n",
    "ann.add(Dense(512,activation='relu'))\n",
    "ann.add(Dropout(0.2))\n",
    "ann.add(Dense(1024,activation='relu'))\n",
    "ann.add(Dropout(0.2))\n",
    "ann.add(Dense(1,activation='linear'))"
   ]
  },
  {
   "cell_type": "code",
   "execution_count": 59,
   "metadata": {
    "tags": [
     "outputPrepend"
    ]
   },
   "outputs": [
    {
     "output_type": "stream",
     "name": "stdout",
     "text": "d_error: 25.6710\nEpoch 2/100\n7232/7316 [============================>.] - ETA: 0s - loss: 25.3141 - mean_squared_error: 25.3141INFO:tensorflow:Assets written to: model-002.model\\assets\n7316/7316 [==============================] - 6s 850us/sample - loss: 25.2837 - mean_squared_error: 25.2837 - val_loss: 23.9090 - val_mean_squared_error: 23.9090\nEpoch 3/100\n7104/7316 [============================>.] - ETA: 0s - loss: 24.2841 - mean_squared_error: 24.2841INFO:tensorflow:Assets written to: model-003.model\\assets\n7316/7316 [==============================] - 6s 849us/sample - loss: 24.2944 - mean_squared_error: 24.2944 - val_loss: 23.2386 - val_mean_squared_error: 23.2386\nEpoch 4/100\n7316/7316 [==============================] - 2s 224us/sample - loss: 23.6497 - mean_squared_error: 23.6497 - val_loss: 24.6203 - val_mean_squared_error: 24.6203\nEpoch 5/100\n7232/7316 [============================>.] - ETA: 0s - loss: 22.9051 - mean_squared_error: 22.9051INFO:tensorflow:Assets written to: model-005.model\\assets\n7316/7316 [==============================] - 6s 884us/sample - loss: 22.9045 - mean_squared_error: 22.9045 - val_loss: 23.1448 - val_mean_squared_error: 23.1448\nEpoch 6/100\n7168/7316 [============================>.] - ETA: 0s - loss: 22.7404 - mean_squared_error: 22.7404INFO:tensorflow:Assets written to: model-006.model\\assets\n7316/7316 [==============================] - 6s 878us/sample - loss: 22.8199 - mean_squared_error: 22.8199 - val_loss: 21.8792 - val_mean_squared_error: 21.8792\nEpoch 7/100\n7316/7316 [==============================] - 2s 222us/sample - loss: 21.8148 - mean_squared_error: 21.8148 - val_loss: 22.1890 - val_mean_squared_error: 22.1890\nEpoch 8/100\n7316/7316 [==============================] - 2s 251us/sample - loss: 21.3573 - mean_squared_error: 21.3573 - val_loss: 22.3385 - val_mean_squared_error: 22.3385\nEpoch 9/100\n7168/7316 [============================>.] - ETA: 0s - loss: 21.2027 - mean_squared_error: 21.2027INFO:tensorflow:Assets written to: model-009.model\\assets\n7316/7316 [==============================] - 7s 931us/sample - loss: 21.1832 - mean_squared_error: 21.1832 - val_loss: 20.8770 - val_mean_squared_error: 20.8770\nEpoch 10/100\n7168/7316 [============================>.] - ETA: 0s - loss: 21.0098 - mean_squared_error: 21.0098INFO:tensorflow:Assets written to: model-010.model\\assets\n7316/7316 [==============================] - 7s 909us/sample - loss: 21.0392 - mean_squared_error: 21.0392 - val_loss: 20.1912 - val_mean_squared_error: 20.1912\nEpoch 11/100\n7316/7316 [==============================] - 2s 224us/sample - loss: 20.4784 - mean_squared_error: 20.4784 - val_loss: 20.5074 - val_mean_squared_error: 20.5074\nEpoch 12/100\n7296/7316 [============================>.] - ETA: 0s - loss: 20.4251 - mean_squared_error: 20.4251INFO:tensorflow:Assets written to: model-012.model\\assets\n7316/7316 [==============================] - 7s 908us/sample - loss: 20.4280 - mean_squared_error: 20.4280 - val_loss: 19.8823 - val_mean_squared_error: 19.8823\nEpoch 13/100\n7316/7316 [==============================] - 2s 289us/sample - loss: 19.4899 - mean_squared_error: 19.4899 - val_loss: 20.1084 - val_mean_squared_error: 20.1084\nEpoch 14/100\n7316/7316 [==============================] - 2s 308us/sample - loss: 19.4399 - mean_squared_error: 19.4399 - val_loss: 21.8026 - val_mean_squared_error: 21.8026\nEpoch 15/100\n7316/7316 [==============================] - 2s 241us/sample - loss: 19.2168 - mean_squared_error: 19.2168 - val_loss: 19.9422 - val_mean_squared_error: 19.9422\nEpoch 16/100\n7168/7316 [============================>.] - ETA: 0s - loss: 18.8046 - mean_squared_error: 18.8046INFO:tensorflow:Assets written to: model-016.model\\assets\n7316/7316 [==============================] - 7s 893us/sample - loss: 18.8376 - mean_squared_error: 18.8376 - val_loss: 18.6157 - val_mean_squared_error: 18.6157\nEpoch 17/100\n7316/7316 [==============================] - 2s 246us/sample - loss: 18.3415 - mean_squared_error: 18.3415 - val_loss: 19.9038 - val_mean_squared_error: 19.9038\nEpoch 18/100\n7316/7316 [==============================] - 2s 218us/sample - loss: 18.6143 - mean_squared_error: 18.6143 - val_loss: 19.6482 - val_mean_squared_error: 19.6482\nEpoch 19/100\n7316/7316 [==============================] - 2s 219us/sample - loss: 18.4328 - mean_squared_error: 18.4328 - val_loss: 19.2383 - val_mean_squared_error: 19.2383\nEpoch 20/100\n7316/7316 [==============================] - 2s 223us/sample - loss: 17.8034 - mean_squared_error: 17.8034 - val_loss: 18.8291 - val_mean_squared_error: 18.8291\nEpoch 21/100\n7316/7316 [==============================] - 2s 220us/sample - loss: 17.9501 - mean_squared_error: 17.9501 - val_loss: 18.6995 - val_mean_squared_error: 18.6995\nEpoch 22/100\n7316/7316 [==============================] - 2s 222us/sample - loss: 17.7942 - mean_squared_error: 17.7942 - val_loss: 19.0642 - val_mean_squared_error: 19.0642\nEpoch 23/100\n7316/7316 [==============================] - 2s 232us/sample - loss: 17.2458 - mean_squared_error: 17.2458 - val_loss: 19.1049 - val_mean_squared_error: 19.1049\nEpoch 24/100\n7316/7316 [==============================] - 2s 218us/sample - loss: 17.3501 - mean_squared_error: 17.3501 - val_loss: 18.8702 - val_mean_squared_error: 18.8702\nEpoch 25/100\n7296/7316 [============================>.] - ETA: 0s - loss: 16.8552 - mean_squared_error: 16.8552INFO:tensorflow:Assets written to: model-025.model\\assets\n7316/7316 [==============================] - 6s 860us/sample - loss: 16.8502 - mean_squared_error: 16.8502 - val_loss: 18.1810 - val_mean_squared_error: 18.1810\nEpoch 26/100\n7316/7316 [==============================] - 2s 220us/sample - loss: 16.8143 - mean_squared_error: 16.8143 - val_loss: 18.6651 - val_mean_squared_error: 18.6651\nEpoch 27/100\n7232/7316 [============================>.] - ETA: 0s - loss: 16.8910 - mean_squared_error: 16.8909INFO:tensorflow:Assets written to: model-027.model\\assets\n7316/7316 [==============================] - 6s 826us/sample - loss: 16.9565 - mean_squared_error: 16.9565 - val_loss: 17.9063 - val_mean_squared_error: 17.9063\nEpoch 28/100\n7316/7316 [==============================] - 2s 221us/sample - loss: 16.8241 - mean_squared_error: 16.8241 - val_loss: 19.0692 - val_mean_squared_error: 19.0692\nEpoch 29/100\n7316/7316 [==============================] - 2s 241us/sample - loss: 16.4295 - mean_squared_error: 16.4295 - val_loss: 18.3685 - val_mean_squared_error: 18.3685\nEpoch 30/100\n7316/7316 [==============================] - 2s 267us/sample - loss: 16.2678 - mean_squared_error: 16.2678 - val_loss: 18.1232 - val_mean_squared_error: 18.1232\nEpoch 31/100\n7316/7316 [==============================] - 2s 254us/sample - loss: 16.1017 - mean_squared_error: 16.1017 - val_loss: 18.2491 - val_mean_squared_error: 18.2491\nEpoch 32/100\n7316/7316 [==============================] - 2s 250us/sample - loss: 15.7320 - mean_squared_error: 15.7320 - val_loss: 18.5362 - val_mean_squared_error: 18.5362\nEpoch 33/100\n7316/7316 [==============================] - 2s 233us/sample - loss: 15.6772 - mean_squared_error: 15.6772 - val_loss: 19.2126 - val_mean_squared_error: 19.2126\nEpoch 34/100\n7316/7316 [==============================] - 2s 225us/sample - loss: 15.8782 - mean_squared_error: 15.8782 - val_loss: 18.1390 - val_mean_squared_error: 18.1390\nEpoch 35/100\n7104/7316 [============================>.] - ETA: 0s - loss: 15.2775 - mean_squared_error: 15.2775INFO:tensorflow:Assets written to: model-035.model\\assets\n7316/7316 [==============================] - 6s 828us/sample - loss: 15.2585 - mean_squared_error: 15.2585 - val_loss: 17.3060 - val_mean_squared_error: 17.3060\nEpoch 36/100\n7316/7316 [==============================] - 2s 245us/sample - loss: 14.9305 - mean_squared_error: 14.9305 - val_loss: 17.6222 - val_mean_squared_error: 17.6222\nEpoch 37/100\n7316/7316 [==============================] - 2s 245us/sample - loss: 15.0469 - mean_squared_error: 15.0469 - val_loss: 17.5649 - val_mean_squared_error: 17.5649\nEpoch 38/100\n7316/7316 [==============================] - 2s 258us/sample - loss: 14.6838 - mean_squared_error: 14.6838 - val_loss: 18.3183 - val_mean_squared_error: 18.3183\nEpoch 39/100\n7316/7316 [==============================] - 2s 246us/sample - loss: 14.6632 - mean_squared_error: 14.6632 - val_loss: 19.4122 - val_mean_squared_error: 19.4122\nEpoch 40/100\n7316/7316 [==============================] - 2s 240us/sample - loss: 14.7073 - mean_squared_error: 14.7073 - val_loss: 17.6993 - val_mean_squared_error: 17.6993\nEpoch 41/100\n7316/7316 [==============================] - 2s 233us/sample - loss: 14.3485 - mean_squared_error: 14.3485 - val_loss: 17.3770 - val_mean_squared_error: 17.3770\nEpoch 42/100\n7316/7316 [==============================] - 2s 239us/sample - loss: 14.2331 - mean_squared_error: 14.2331 - val_loss: 17.4343 - val_mean_squared_error: 17.4343\nEpoch 43/100\n7232/7316 [============================>.] - ETA: 0s - loss: 14.0109 - mean_squared_error: 14.0109INFO:tensorflow:Assets written to: model-043.model\\assets\n7316/7316 [==============================] - 7s 920us/sample - loss: 14.0230 - mean_squared_error: 14.0230 - val_loss: 17.0894 - val_mean_squared_error: 17.0894\nEpoch 44/100\n7104/7316 [============================>.] - ETA: 0s - loss: 13.9585 - mean_squared_error: 13.9585INFO:tensorflow:Assets written to: model-044.model\\assets\n7316/7316 [==============================] - 6s 876us/sample - loss: 13.8757 - mean_squared_error: 13.8757 - val_loss: 16.8762 - val_mean_squared_error: 16.8762\nEpoch 45/100\n7232/7316 [============================>.] - ETA: 0s - loss: 13.4985 - mean_squared_error: 13.4985INFO:tensorflow:Assets written to: model-045.model\\assets\n7316/7316 [==============================] - 7s 894us/sample - loss: 13.4917 - mean_squared_error: 13.4917 - val_loss: 16.6164 - val_mean_squared_error: 16.6164\nEpoch 46/100\n7316/7316 [==============================] - 2s 245us/sample - loss: 13.8916 - mean_squared_error: 13.8916 - val_loss: 17.2753 - val_mean_squared_error: 17.2753\nEpoch 47/100\n7168/7316 [============================>.] - ETA: 0s - loss: 13.2602 - mean_squared_error: 13.2602INFO:tensorflow:Assets written to: model-047.model\\assets\n7316/7316 [==============================] - 6s 869us/sample - loss: 13.2585 - mean_squared_error: 13.2585 - val_loss: 16.6094 - val_mean_squared_error: 16.6094\nEpoch 48/100\n7316/7316 [==============================] - 2s 240us/sample - loss: 13.3612 - mean_squared_error: 13.3612 - val_loss: 17.0061 - val_mean_squared_error: 17.0061\nEpoch 49/100\n7316/7316 [==============================] - 2s 234us/sample - loss: 13.1251 - mean_squared_error: 13.1251 - val_loss: 17.5288 - val_mean_squared_error: 17.5288\nEpoch 50/100\n7316/7316 [==============================] - 2s 248us/sample - loss: 13.1247 - mean_squared_error: 13.1247 - val_loss: 17.2928 - val_mean_squared_error: 17.2928\nEpoch 51/100\n7316/7316 [==============================] - 2s 245us/sample - loss: 13.1458 - mean_squared_error: 13.1458 - val_loss: 16.8445 - val_mean_squared_error: 16.8445\nEpoch 52/100\n7316/7316 [==============================] - 2s 237us/sample - loss: 12.8193 - mean_squared_error: 12.8193 - val_loss: 17.6652 - val_mean_squared_error: 17.6652\nEpoch 53/100\n7316/7316 [==============================] - 2s 252us/sample - loss: 12.7387 - mean_squared_error: 12.7387 - val_loss: 16.7186 - val_mean_squared_error: 16.7186\nEpoch 54/100\n7316/7316 [==============================] - 2s 249us/sample - loss: 13.0109 - mean_squared_error: 13.0109 - val_loss: 16.7703 - val_mean_squared_error: 16.7703\nEpoch 55/100\n7168/7316 [============================>.] - ETA: 0s - loss: 12.2962 - mean_squared_error: 12.2962INFO:tensorflow:Assets written to: model-055.model\\assets\n7316/7316 [==============================] - 6s 879us/sample - loss: 12.3890 - mean_squared_error: 12.3890 - val_loss: 16.3623 - val_mean_squared_error: 16.3623\nEpoch 56/100\n7316/7316 [==============================] - 2s 235us/sample - loss: 12.3642 - mean_squared_error: 12.3642 - val_loss: 16.9284 - val_mean_squared_error: 16.9284\nEpoch 57/100\n7316/7316 [==============================] - 2s 234us/sample - loss: 12.2218 - mean_squared_error: 12.2218 - val_loss: 18.1897 - val_mean_squared_error: 18.1897\nEpoch 58/100\n7316/7316 [==============================] - 2s 230us/sample - loss: 12.1485 - mean_squared_error: 12.1485 - val_loss: 18.9309 - val_mean_squared_error: 18.9309\nEpoch 59/100\n7316/7316 [==============================] - 2s 244us/sample - loss: 11.7410 - mean_squared_error: 11.7409 - val_loss: 17.9852 - val_mean_squared_error: 17.9852\nEpoch 60/100\n7316/7316 [==============================] - 2s 242us/sample - loss: 11.8831 - mean_squared_error: 11.8831 - val_loss: 17.4463 - val_mean_squared_error: 17.4463\nEpoch 61/100\n7316/7316 [==============================] - 2s 254us/sample - loss: 11.9025 - mean_squared_error: 11.9025 - val_loss: 16.6357 - val_mean_squared_error: 16.6357\nEpoch 62/100\n7316/7316 [==============================] - 2s 228us/sample - loss: 11.8774 - mean_squared_error: 11.8774 - val_loss: 17.4267 - val_mean_squared_error: 17.4267\nEpoch 63/100\n7104/7316 [============================>.] - ETA: 0s - loss: 11.5494 - mean_squared_error: 11.5494INFO:tensorflow:Assets written to: model-063.model\\assets\n7316/7316 [==============================] - 6s 843us/sample - loss: 11.4773 - mean_squared_error: 11.4773 - val_loss: 16.1624 - val_mean_squared_error: 16.1624\nEpoch 64/100\n7316/7316 [==============================] - 2s 228us/sample - loss: 11.4572 - mean_squared_error: 11.4572 - val_loss: 16.5803 - val_mean_squared_error: 16.5803\nEpoch 65/100\n7316/7316 [==============================] - 2s 243us/sample - loss: 11.3400 - mean_squared_error: 11.3400 - val_loss: 16.7415 - val_mean_squared_error: 16.7416\nEpoch 66/100\n7316/7316 [==============================] - 2s 243us/sample - loss: 11.0708 - mean_squared_error: 11.0708 - val_loss: 17.3224 - val_mean_squared_error: 17.3224\nEpoch 67/100\n7316/7316 [==============================] - 2s 242us/sample - loss: 11.2256 - mean_squared_error: 11.2256 - val_loss: 16.6796 - val_mean_squared_error: 16.6796\nEpoch 68/100\n7316/7316 [==============================] - 2s 232us/sample - loss: 10.5592 - mean_squared_error: 10.5592 - val_loss: 17.6063 - val_mean_squared_error: 17.6063\nEpoch 69/100\n7316/7316 [==============================] - 2s 227us/sample - loss: 10.9328 - mean_squared_error: 10.9328 - val_loss: 18.4619 - val_mean_squared_error: 18.4619\nEpoch 70/100\n7316/7316 [==============================] - 2s 229us/sample - loss: 10.7570 - mean_squared_error: 10.7570 - val_loss: 16.8236 - val_mean_squared_error: 16.8236\nEpoch 71/100\n7316/7316 [==============================] - 2s 222us/sample - loss: 10.4779 - mean_squared_error: 10.4779 - val_loss: 17.7517 - val_mean_squared_error: 17.7517\nEpoch 72/100\n7316/7316 [==============================] - 2s 222us/sample - loss: 10.2287 - mean_squared_error: 10.2287 - val_loss: 17.2700 - val_mean_squared_error: 17.2700\nEpoch 73/100\n7316/7316 [==============================] - 2s 222us/sample - loss: 10.5552 - mean_squared_error: 10.5552 - val_loss: 16.7629 - val_mean_squared_error: 16.7629\nEpoch 74/100\n7316/7316 [==============================] - 2s 225us/sample - loss: 10.4717 - mean_squared_error: 10.4717 - val_loss: 16.5104 - val_mean_squared_error: 16.5104\nEpoch 75/100\n7316/7316 [==============================] - 2s 234us/sample - loss: 10.3671 - mean_squared_error: 10.3671 - val_loss: 17.7197 - val_mean_squared_error: 17.7197\nEpoch 76/100\n7316/7316 [==============================] - 2s 248us/sample - loss: 10.2400 - mean_squared_error: 10.2400 - val_loss: 16.6429 - val_mean_squared_error: 16.6429\nEpoch 77/100\n7316/7316 [==============================] - 2s 250us/sample - loss: 10.3099 - mean_squared_error: 10.3099 - val_loss: 16.8677 - val_mean_squared_error: 16.8677\nEpoch 78/100\n7316/7316 [==============================] - 2s 233us/sample - loss: 10.2202 - mean_squared_error: 10.2202 - val_loss: 17.3669 - val_mean_squared_error: 17.3669\nEpoch 79/100\n7316/7316 [==============================] - 2s 242us/sample - loss: 9.9115 - mean_squared_error: 9.9115 - val_loss: 16.8268 - val_mean_squared_error: 16.8268\nEpoch 80/100\n7316/7316 [==============================] - 2s 252us/sample - loss: 10.1042 - mean_squared_error: 10.1042 - val_loss: 16.8352 - val_mean_squared_error: 16.8352\nEpoch 81/100\n7316/7316 [==============================] - 2s 238us/sample - loss: 9.9605 - mean_squared_error: 9.9605 - val_loss: 17.8913 - val_mean_squared_error: 17.8913\nEpoch 82/100\n7316/7316 [==============================] - 2s 244us/sample - loss: 9.6900 - mean_squared_error: 9.6900 - val_loss: 17.1377 - val_mean_squared_error: 17.1377\nEpoch 83/100\n7316/7316 [==============================] - 2s 238us/sample - loss: 9.6476 - mean_squared_error: 9.6476 - val_loss: 17.7978 - val_mean_squared_error: 17.7978\nEpoch 84/100\n7316/7316 [==============================] - 2s 249us/sample - loss: 9.4812 - mean_squared_error: 9.4812 - val_loss: 16.6670 - val_mean_squared_error: 16.6670\nEpoch 85/100\n7316/7316 [==============================] - 2s 253us/sample - loss: 9.4660 - mean_squared_error: 9.4660 - val_loss: 16.3550 - val_mean_squared_error: 16.3550\nEpoch 86/100\n7316/7316 [==============================] - 2s 268us/sample - loss: 9.5432 - mean_squared_error: 9.5432 - val_loss: 16.1934 - val_mean_squared_error: 16.1934\nEpoch 87/100\n7316/7316 [==============================] - 2s 233us/sample - loss: 9.0028 - mean_squared_error: 9.0028 - val_loss: 17.5756 - val_mean_squared_error: 17.5756\nEpoch 88/100\n7104/7316 [============================>.] - ETA: 0s - loss: 8.8233 - mean_squared_error: 8.8233INFO:tensorflow:Assets written to: model-088.model\\assets\n7316/7316 [==============================] - 7s 905us/sample - loss: 8.8981 - mean_squared_error: 8.8981 - val_loss: 15.8878 - val_mean_squared_error: 15.8878\nEpoch 89/100\n7316/7316 [==============================] - 2s 231us/sample - loss: 8.5925 - mean_squared_error: 8.5925 - val_loss: 15.9034 - val_mean_squared_error: 15.9034\nEpoch 90/100\n7316/7316 [==============================] - 2s 228us/sample - loss: 9.3399 - mean_squared_error: 9.3399 - val_loss: 18.1666 - val_mean_squared_error: 18.1666\nEpoch 91/100\n7316/7316 [==============================] - 2s 253us/sample - loss: 8.8674 - mean_squared_error: 8.8674 - val_loss: 16.3633 - val_mean_squared_error: 16.3633\nEpoch 92/100\n7316/7316 [==============================] - 2s 244us/sample - loss: 8.9135 - mean_squared_error: 8.9135 - val_loss: 17.5325 - val_mean_squared_error: 17.5325\nEpoch 93/100\n7316/7316 [==============================] - 2s 231us/sample - loss: 8.9988 - mean_squared_error: 8.9988 - val_loss: 17.3615 - val_mean_squared_error: 17.3615\nEpoch 94/100\n7316/7316 [==============================] - 2s 223us/sample - loss: 8.7539 - mean_squared_error: 8.7539 - val_loss: 17.3103 - val_mean_squared_error: 17.3103\nEpoch 95/100\n7316/7316 [==============================] - 2s 225us/sample - loss: 8.5121 - mean_squared_error: 8.5121 - val_loss: 17.6545 - val_mean_squared_error: 17.6545\nEpoch 96/100\n7316/7316 [==============================] - 2s 223us/sample - loss: 8.3850 - mean_squared_error: 8.3850 - val_loss: 17.8271 - val_mean_squared_error: 17.8271\nEpoch 97/100\n7316/7316 [==============================] - 2s 218us/sample - loss: 8.4900 - mean_squared_error: 8.4900 - val_loss: 17.0736 - val_mean_squared_error: 17.0736\nEpoch 98/100\n7316/7316 [==============================] - 2s 222us/sample - loss: 8.3012 - mean_squared_error: 8.3012 - val_loss: 17.4743 - val_mean_squared_error: 17.4743\nEpoch 99/100\n7316/7316 [==============================] - 2s 218us/sample - loss: 8.6160 - mean_squared_error: 8.6160 - val_loss: 17.6587 - val_mean_squared_error: 17.6587\nEpoch 100/100\n7316/7316 [==============================] - 2s 234us/sample - loss: 8.6298 - mean_squared_error: 8.6298 - val_loss: 16.8183 - val_mean_squared_error: 16.8183\n"
    },
    {
     "output_type": "execute_result",
     "data": {
      "text/plain": "<tensorflow.python.keras.callbacks.History at 0x124e6117fc8>"
     },
     "metadata": {},
     "execution_count": 59
    }
   ],
   "source": [
    "ann.compile(optimizer = 'adam',loss = 'mean_squared_error',metrics=['mean_squared_error'])\n",
    "checkpoint = ModelCheckpoint('model-{epoch:03d}.model',monitor='val_loss',verbose=0,save_best_only=True,mode='auto')\n",
    "ann.fit(X_train,y_train,epochs=100,batch_size=64,validation_data=(X_test,y_test),callbacks=[checkpoint])"
   ]
  },
  {
   "cell_type": "code",
   "execution_count": 60,
   "metadata": {
    "tags": []
   },
   "outputs": [
    {
     "output_type": "stream",
     "name": "stdout",
     "text": "1830/1830 [==============================] - 0s 134us/sample - loss: 16.8183 - mean_squared_error: 16.8183\n"
    },
    {
     "output_type": "execute_result",
     "data": {
      "text/plain": "[16.818308929276597, 16.818308]"
     },
     "metadata": {},
     "execution_count": 60
    }
   ],
   "source": [
    "ann.evaluate(X_test,y_test)"
   ]
  },
  {
   "cell_type": "markdown",
   "metadata": {},
   "source": [
    "**So I will Choose Model at epoch 88 because it have val_mse=15.88 on test dataset**"
   ]
  },
  {
   "cell_type": "markdown",
   "metadata": {},
   "source": [
    "**Loading the Best Model**"
   ]
  },
  {
   "cell_type": "code",
   "execution_count": 62,
   "metadata": {},
   "outputs": [],
   "source": [
    "from tensorflow.keras.models import load_model\n",
    "best_model = load_model('model-088.model')"
   ]
  },
  {
   "cell_type": "code",
   "execution_count": 64,
   "metadata": {},
   "outputs": [
    {
     "output_type": "execute_result",
     "data": {
      "text/plain": "   mass_npea  size_npear  malign_ratio  damage_size  exposed_area  \\\n0    4946.44      914.06       0.18479      54.5566  6.628345e+05   \n1    5613.85     1629.12       0.29019      51.5524  7.842271e+05   \n2   12421.10     3062.41       0.24654     154.1560  1.763575e+06   \n3    6830.77     2457.66       0.35979      56.8995  9.296623e+05   \n4   33407.80    12353.60       0.36978     219.0740  4.595871e+06   \n\n   std_dev_malign  err_malign  malign_penalty  damage_ratio  \n0         67.0525     2301.76              22       41.9554  \n1         80.1986     3235.00              48       40.7410  \n2        186.8590     4684.63              63       29.4778  \n3         92.7361     3211.93              42       38.5027  \n4        493.3370    13389.36             187       26.8449  ",
      "text/html": "<div>\n<style scoped>\n    .dataframe tbody tr th:only-of-type {\n        vertical-align: middle;\n    }\n\n    .dataframe tbody tr th {\n        vertical-align: top;\n    }\n\n    .dataframe thead th {\n        text-align: right;\n    }\n</style>\n<table border=\"1\" class=\"dataframe\">\n  <thead>\n    <tr style=\"text-align: right;\">\n      <th></th>\n      <th>mass_npea</th>\n      <th>size_npear</th>\n      <th>malign_ratio</th>\n      <th>damage_size</th>\n      <th>exposed_area</th>\n      <th>std_dev_malign</th>\n      <th>err_malign</th>\n      <th>malign_penalty</th>\n      <th>damage_ratio</th>\n    </tr>\n  </thead>\n  <tbody>\n    <tr>\n      <th>0</th>\n      <td>4946.44</td>\n      <td>914.06</td>\n      <td>0.18479</td>\n      <td>54.5566</td>\n      <td>6.628345e+05</td>\n      <td>67.0525</td>\n      <td>2301.76</td>\n      <td>22</td>\n      <td>41.9554</td>\n    </tr>\n    <tr>\n      <th>1</th>\n      <td>5613.85</td>\n      <td>1629.12</td>\n      <td>0.29019</td>\n      <td>51.5524</td>\n      <td>7.842271e+05</td>\n      <td>80.1986</td>\n      <td>3235.00</td>\n      <td>48</td>\n      <td>40.7410</td>\n    </tr>\n    <tr>\n      <th>2</th>\n      <td>12421.10</td>\n      <td>3062.41</td>\n      <td>0.24654</td>\n      <td>154.1560</td>\n      <td>1.763575e+06</td>\n      <td>186.8590</td>\n      <td>4684.63</td>\n      <td>63</td>\n      <td>29.4778</td>\n    </tr>\n    <tr>\n      <th>3</th>\n      <td>6830.77</td>\n      <td>2457.66</td>\n      <td>0.35979</td>\n      <td>56.8995</td>\n      <td>9.296623e+05</td>\n      <td>92.7361</td>\n      <td>3211.93</td>\n      <td>42</td>\n      <td>38.5027</td>\n    </tr>\n    <tr>\n      <th>4</th>\n      <td>33407.80</td>\n      <td>12353.60</td>\n      <td>0.36978</td>\n      <td>219.0740</td>\n      <td>4.595871e+06</td>\n      <td>493.3370</td>\n      <td>13389.36</td>\n      <td>187</td>\n      <td>26.8449</td>\n    </tr>\n  </tbody>\n</table>\n</div>"
     },
     "metadata": {},
     "execution_count": 64
    }
   ],
   "source": [
    "test_df = pd.read_csv('Test.csv')\n",
    "test_df.head()"
   ]
  },
  {
   "cell_type": "code",
   "execution_count": 70,
   "metadata": {},
   "outputs": [],
   "source": [
    "test = test_df.values\n",
    "test = sc.transform(test)"
   ]
  },
  {
   "cell_type": "code",
   "execution_count": 71,
   "metadata": {},
   "outputs": [
    {
     "output_type": "execute_result",
     "data": {
      "text/plain": "array([[ 3.1536148],\n       [11.412156 ],\n       [ 2.4658253],\n       ...,\n       [ 7.78369  ],\n       [ 4.457317 ],\n       [ 4.0098524]], dtype=float32)"
     },
     "metadata": {},
     "execution_count": 71
    }
   ],
   "source": [
    "best_model.predict(test)"
   ]
  },
  {
   "cell_type": "code",
   "execution_count": 75,
   "metadata": {},
   "outputs": [],
   "source": [
    "submission = pd.DataFrame()\n",
    "submission['Predicted_Tumor_size'] = best_model.predict(test).reshape(36584)"
   ]
  },
  {
   "cell_type": "code",
   "execution_count": 76,
   "metadata": {},
   "outputs": [
    {
     "output_type": "execute_result",
     "data": {
      "text/plain": "   Predicted_Tumor_size\n0              3.153615\n1             11.412156\n2              2.465825\n3              9.595662\n4             15.038789",
      "text/html": "<div>\n<style scoped>\n    .dataframe tbody tr th:only-of-type {\n        vertical-align: middle;\n    }\n\n    .dataframe tbody tr th {\n        vertical-align: top;\n    }\n\n    .dataframe thead th {\n        text-align: right;\n    }\n</style>\n<table border=\"1\" class=\"dataframe\">\n  <thead>\n    <tr style=\"text-align: right;\">\n      <th></th>\n      <th>Predicted_Tumor_size</th>\n    </tr>\n  </thead>\n  <tbody>\n    <tr>\n      <th>0</th>\n      <td>3.153615</td>\n    </tr>\n    <tr>\n      <th>1</th>\n      <td>11.412156</td>\n    </tr>\n    <tr>\n      <th>2</th>\n      <td>2.465825</td>\n    </tr>\n    <tr>\n      <th>3</th>\n      <td>9.595662</td>\n    </tr>\n    <tr>\n      <th>4</th>\n      <td>15.038789</td>\n    </tr>\n  </tbody>\n</table>\n</div>"
     },
     "metadata": {},
     "execution_count": 76
    }
   ],
   "source": [
    "submission.head()"
   ]
  },
  {
   "cell_type": "code",
   "execution_count": 78,
   "metadata": {},
   "outputs": [],
   "source": [
    "submission.to_csv('final_submission.csv')"
   ]
  },
  {
   "cell_type": "code",
   "execution_count": 79,
   "metadata": {},
   "outputs": [
    {
     "output_type": "execute_result",
     "data": {
      "text/plain": "3.9859488115435977"
     },
     "metadata": {},
     "execution_count": 79
    }
   ],
   "source": [
    "np.sqrt(mean_squared_error(y_test,best_model.predict(X_test)))"
   ]
  },
  {
   "cell_type": "markdown",
   "metadata": {},
   "source": [
    "**Above is the final rmse of ANN**"
   ]
  },
  {
   "cell_type": "code",
   "execution_count": null,
   "metadata": {},
   "outputs": [],
   "source": []
  }
 ]
}